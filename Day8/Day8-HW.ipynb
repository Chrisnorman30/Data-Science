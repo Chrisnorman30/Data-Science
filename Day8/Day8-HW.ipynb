{
 "cells": [
  {
   "cell_type": "markdown",
   "id": "a9215f5c-525b-4508-8b0d-700f55cbd252",
   "metadata": {},
   "source": [
    "## Introduction to Data Science\n",
    "\n",
    "#### University of Redlands - DATA 101\n",
    "#### Prof: Joanna Bieri [joanna_bieri@redlands.edu](mailto:joanna_bieri@redlands.edu)\n",
    "#### [Class Website: data101.joannabieri.com](https://joannabieri.com/data101.html)\n",
    "\n",
    "---------------------------------------\n",
    "# Homework Day 8\n",
    "---------------------------------------\n",
    "\n",
    "GOALS:\n",
    "\n",
    "1. Load data into Python that you find online\n",
    "2. Understand data types and fix some errors\n",
    "3. Find your own data to play with\n",
    "\n",
    "----------------------------------------------------------\n",
    "\n",
    "This homework has **5 questions** and **1 problem**.\n",
    "\n",
    "NOTE: Be kind to yourself. Working with data can be hard! Every data set is different. **Seriously** come get help! Come to lab!\n"
   ]
  },
  {
   "cell_type": "code",
   "execution_count": 4,
   "id": "049c24b6-a6c1-4ccc-b2de-5ea0366d09f8",
   "metadata": {},
   "outputs": [],
   "source": [
    "import numpy as np\n",
    "import pandas as pd\n",
    "\n",
    "import matplotlib.pyplot as plt\n",
    "import plotly.express as px\n",
    "from plotly.subplots import make_subplots\n",
    "import plotly.io as pio\n",
    "pio.renderers.defaule = 'colab'"
   ]
  },
  {
   "cell_type": "markdown",
   "id": "9c942910-0e2f-4428-95b6-1ca89c228405",
   "metadata": {},
   "source": [
    "You might need to install lxml. If you get a \"ImportError: Missing optional dependency 'lxml'\" Then uncomment and run the cell below"
   ]
  },
  {
   "cell_type": "code",
   "execution_count": 5,
   "id": "3d4ea0c4-7b90-48a6-bd63-684f33d12d79",
   "metadata": {},
   "outputs": [],
   "source": [
    "#!conda install -y lxml"
   ]
  },
  {
   "cell_type": "markdown",
   "id": "23773272-c059-4148-a5a8-91e9da594c46",
   "metadata": {},
   "source": [
    "## Try reading in some data - csv\n",
    "\n",
    "Go to the [Cal Fire Website](https://www.fire.ca.gov/incidents) and scroll to the bottom to see the Incident Data. We will download the file named **ALL DATA AS CSV** this should put the data file into your Downloads folder. \n",
    "\n",
    "Next you need to move the file **mapdataall.csv** from your Downloads folder into your Day8 folder where you are doing your homework. You can open your Downloads folder and drag the file into JupyterLab side bar. Then I can run the command\n",
    "\n",
    "    DF_raw = pd.read_csv('mapdataall.csv')\n",
    "\n",
    "to load the data and look at the data frame."
   ]
  },
  {
   "cell_type": "code",
   "execution_count": 6,
   "id": "e90fdd5f-bd17-4c94-b3f4-7ddc998bd001",
   "metadata": {},
   "outputs": [
    {
     "data": {
      "text/html": [
       "<div>\n",
       "<style scoped>\n",
       "    .dataframe tbody tr th:only-of-type {\n",
       "        vertical-align: middle;\n",
       "    }\n",
       "\n",
       "    .dataframe tbody tr th {\n",
       "        vertical-align: top;\n",
       "    }\n",
       "\n",
       "    .dataframe thead th {\n",
       "        text-align: right;\n",
       "    }\n",
       "</style>\n",
       "<table border=\"1\" class=\"dataframe\">\n",
       "  <thead>\n",
       "    <tr style=\"text-align: right;\">\n",
       "      <th></th>\n",
       "      <th>incident_name</th>\n",
       "      <th>incident_is_final</th>\n",
       "      <th>incident_date_last_update</th>\n",
       "      <th>incident_date_created</th>\n",
       "      <th>incident_administrative_unit</th>\n",
       "      <th>incident_administrative_unit_url</th>\n",
       "      <th>incident_county</th>\n",
       "      <th>incident_location</th>\n",
       "      <th>incident_acres_burned</th>\n",
       "      <th>incident_containment</th>\n",
       "      <th>...</th>\n",
       "      <th>incident_latitude</th>\n",
       "      <th>incident_type</th>\n",
       "      <th>incident_id</th>\n",
       "      <th>incident_url</th>\n",
       "      <th>incident_date_extinguished</th>\n",
       "      <th>incident_dateonly_extinguished</th>\n",
       "      <th>incident_dateonly_created</th>\n",
       "      <th>is_active</th>\n",
       "      <th>calfire_incident</th>\n",
       "      <th>notification_desired</th>\n",
       "    </tr>\n",
       "  </thead>\n",
       "  <tbody>\n",
       "    <tr>\n",
       "      <th>0</th>\n",
       "      <td>Bridge Fire</td>\n",
       "      <td>Y</td>\n",
       "      <td>2018-01-09T13:46:00Z</td>\n",
       "      <td>2017-10-31T11:22:00Z</td>\n",
       "      <td>Shasta-Trinity National Forest</td>\n",
       "      <td>NaN</td>\n",
       "      <td>Shasta</td>\n",
       "      <td>I-5 and Turntable Bay, 7 miles NE of Shasta Lake</td>\n",
       "      <td>37.0</td>\n",
       "      <td>100.0</td>\n",
       "      <td>...</td>\n",
       "      <td>40.774000</td>\n",
       "      <td>NaN</td>\n",
       "      <td>2ca11d45-8139-4c16-8af0-880d99b21e82</td>\n",
       "      <td>https://www.fire.ca.gov/incidents/2017/10/31/b...</td>\n",
       "      <td>2018-01-09T13:46:00Z</td>\n",
       "      <td>2018-01-09</td>\n",
       "      <td>2017-10-31</td>\n",
       "      <td>N</td>\n",
       "      <td>False</td>\n",
       "      <td>False</td>\n",
       "    </tr>\n",
       "    <tr>\n",
       "      <th>1</th>\n",
       "      <td>Pala Fire</td>\n",
       "      <td>Y</td>\n",
       "      <td>2020-09-16T14:07:35Z</td>\n",
       "      <td>2009-05-24T14:56:00Z</td>\n",
       "      <td>CAL FIRE San Diego Unit</td>\n",
       "      <td>NaN</td>\n",
       "      <td>San Diego</td>\n",
       "      <td>Hwy 76 and Pala Temecula, northwest of Pala</td>\n",
       "      <td>122.0</td>\n",
       "      <td>100.0</td>\n",
       "      <td>...</td>\n",
       "      <td>1.000000</td>\n",
       "      <td>Wildfire</td>\n",
       "      <td>8f61f461-552d-4538-b186-35ab030da416</td>\n",
       "      <td>https://www.fire.ca.gov/incidents/2009/5/24/pa...</td>\n",
       "      <td>2009-05-25T00:00:00Z</td>\n",
       "      <td>2009-05-25</td>\n",
       "      <td>2009-05-24</td>\n",
       "      <td>N</td>\n",
       "      <td>True</td>\n",
       "      <td>False</td>\n",
       "    </tr>\n",
       "    <tr>\n",
       "      <th>2</th>\n",
       "      <td>River Fire</td>\n",
       "      <td>Y</td>\n",
       "      <td>2022-10-24T11:39:23Z</td>\n",
       "      <td>2013-02-24T08:16:00Z</td>\n",
       "      <td>CAL FIRE San Bernardino Unit</td>\n",
       "      <td>NaN</td>\n",
       "      <td>Inyo</td>\n",
       "      <td>south of Narrow Gauge Rd &amp; north of Hwy 136, e...</td>\n",
       "      <td>407.0</td>\n",
       "      <td>100.0</td>\n",
       "      <td>...</td>\n",
       "      <td>36.602575</td>\n",
       "      <td>NaN</td>\n",
       "      <td>094719ba-a47b-4abb-9ec5-a506b2b9fd23</td>\n",
       "      <td>https://www.fire.ca.gov/incidents/2013/2/24/ri...</td>\n",
       "      <td>2013-02-28T20:00:00Z</td>\n",
       "      <td>2013-02-28</td>\n",
       "      <td>2013-02-24</td>\n",
       "      <td>N</td>\n",
       "      <td>True</td>\n",
       "      <td>False</td>\n",
       "    </tr>\n",
       "    <tr>\n",
       "      <th>3</th>\n",
       "      <td>Fawnskin Fire</td>\n",
       "      <td>Y</td>\n",
       "      <td>2013-04-22T09:00:00Z</td>\n",
       "      <td>2013-04-20T17:30:00Z</td>\n",
       "      <td>San Bernardino National Forest</td>\n",
       "      <td>NaN</td>\n",
       "      <td>San Bernardino</td>\n",
       "      <td>west of Delamar Mountain, north of the communi...</td>\n",
       "      <td>30.0</td>\n",
       "      <td>100.0</td>\n",
       "      <td>...</td>\n",
       "      <td>34.288877</td>\n",
       "      <td>NaN</td>\n",
       "      <td>58f89ff8-bd3e-4355-b1c0-8fa05c747d3f</td>\n",
       "      <td>https://www.fire.ca.gov/incidents/2013/4/20/fa...</td>\n",
       "      <td>2013-04-22T09:00:00Z</td>\n",
       "      <td>2013-04-22</td>\n",
       "      <td>2013-04-20</td>\n",
       "      <td>N</td>\n",
       "      <td>False</td>\n",
       "      <td>False</td>\n",
       "    </tr>\n",
       "    <tr>\n",
       "      <th>4</th>\n",
       "      <td>Gold Fire</td>\n",
       "      <td>Y</td>\n",
       "      <td>2013-05-01T07:00:00Z</td>\n",
       "      <td>2013-04-30T12:59:00Z</td>\n",
       "      <td>CAL FIRE Madera-Mariposa-Merced Unit</td>\n",
       "      <td>NaN</td>\n",
       "      <td>Madera</td>\n",
       "      <td>Between Road 210 and Road 200 near Fine Gold C...</td>\n",
       "      <td>274.0</td>\n",
       "      <td>100.0</td>\n",
       "      <td>...</td>\n",
       "      <td>37.116295</td>\n",
       "      <td>NaN</td>\n",
       "      <td>357ffc13-bef9-48eb-810f-c5de851972eb</td>\n",
       "      <td>https://www.fire.ca.gov/incidents/2013/4/30/go...</td>\n",
       "      <td>2013-05-01T07:00:00Z</td>\n",
       "      <td>2013-05-01</td>\n",
       "      <td>2013-04-30</td>\n",
       "      <td>N</td>\n",
       "      <td>True</td>\n",
       "      <td>False</td>\n",
       "    </tr>\n",
       "    <tr>\n",
       "      <th>...</th>\n",
       "      <td>...</td>\n",
       "      <td>...</td>\n",
       "      <td>...</td>\n",
       "      <td>...</td>\n",
       "      <td>...</td>\n",
       "      <td>...</td>\n",
       "      <td>...</td>\n",
       "      <td>...</td>\n",
       "      <td>...</td>\n",
       "      <td>...</td>\n",
       "      <td>...</td>\n",
       "      <td>...</td>\n",
       "      <td>...</td>\n",
       "      <td>...</td>\n",
       "      <td>...</td>\n",
       "      <td>...</td>\n",
       "      <td>...</td>\n",
       "      <td>...</td>\n",
       "      <td>...</td>\n",
       "      <td>...</td>\n",
       "      <td>...</td>\n",
       "    </tr>\n",
       "    <tr>\n",
       "      <th>3335</th>\n",
       "      <td>Lost Fire</td>\n",
       "      <td>Y</td>\n",
       "      <td>2025-09-28T09:51:03Z</td>\n",
       "      <td>2025-09-25T08:00:00Z</td>\n",
       "      <td>Ventura County Fire Department</td>\n",
       "      <td>NaN</td>\n",
       "      <td>Ventura</td>\n",
       "      <td>Near Lost Canyon Drive, Simi Valley</td>\n",
       "      <td>13.0</td>\n",
       "      <td>100.0</td>\n",
       "      <td>...</td>\n",
       "      <td>34.301578</td>\n",
       "      <td>Wildfire</td>\n",
       "      <td>75c850b6-27a5-493e-aaef-a42e02b2eab4</td>\n",
       "      <td>https://www.fire.ca.gov/incidents/2025/9/25/lo...</td>\n",
       "      <td>2025-09-27T14:00:00Z</td>\n",
       "      <td>2025-09-27</td>\n",
       "      <td>2025-09-25</td>\n",
       "      <td>N</td>\n",
       "      <td>False</td>\n",
       "      <td>False</td>\n",
       "    </tr>\n",
       "    <tr>\n",
       "      <th>3336</th>\n",
       "      <td>Martell Fire</td>\n",
       "      <td>Y</td>\n",
       "      <td>2025-09-28T09:49:59Z</td>\n",
       "      <td>2025-09-26T14:45:08Z</td>\n",
       "      <td>CAL FIRE Tuolumne-Calaveras Unit</td>\n",
       "      <td>NaN</td>\n",
       "      <td>Stanislaus</td>\n",
       "      <td>South of Telegraph Road and Northeast of Sonor...</td>\n",
       "      <td>37.0</td>\n",
       "      <td>100.0</td>\n",
       "      <td>...</td>\n",
       "      <td>37.906127</td>\n",
       "      <td>Wildfire</td>\n",
       "      <td>2d15d2af-d4a5-4f41-a17c-b17e3030ea93</td>\n",
       "      <td>https://www.fire.ca.gov/incidents/2025/9/26/ma...</td>\n",
       "      <td>2025-09-26T23:30:00Z</td>\n",
       "      <td>2025-09-26</td>\n",
       "      <td>2025-09-26</td>\n",
       "      <td>N</td>\n",
       "      <td>True</td>\n",
       "      <td>False</td>\n",
       "    </tr>\n",
       "    <tr>\n",
       "      <th>3337</th>\n",
       "      <td>Cobb Fire</td>\n",
       "      <td>Y</td>\n",
       "      <td>2025-09-29T07:12:14Z</td>\n",
       "      <td>2025-09-26T15:56:10Z</td>\n",
       "      <td>Six Rivers National Forest</td>\n",
       "      <td>NaN</td>\n",
       "      <td>Humboldt</td>\n",
       "      <td>Cobb Road and Rattlesnake Bridge Road, Dinsmore</td>\n",
       "      <td>12.0</td>\n",
       "      <td>100.0</td>\n",
       "      <td>...</td>\n",
       "      <td>40.463864</td>\n",
       "      <td>Wildfire</td>\n",
       "      <td>793418f8-d217-44c3-8409-617b2a3107a2</td>\n",
       "      <td>https://www.fire.ca.gov/incidents/2025/9/26/co...</td>\n",
       "      <td>2025-09-28T17:00:00Z</td>\n",
       "      <td>2025-09-28</td>\n",
       "      <td>2025-09-26</td>\n",
       "      <td>N</td>\n",
       "      <td>True</td>\n",
       "      <td>False</td>\n",
       "    </tr>\n",
       "    <tr>\n",
       "      <th>3338</th>\n",
       "      <td>Vleck Fire</td>\n",
       "      <td>N</td>\n",
       "      <td>2025-09-30T13:00:14-07:00</td>\n",
       "      <td>2025-09-29T12:02:36Z</td>\n",
       "      <td>CAL FIRE Amador-El Dorado Unit</td>\n",
       "      <td>NaN</td>\n",
       "      <td>Sacramento</td>\n",
       "      <td>Van Vleck Road and Jackson Highway</td>\n",
       "      <td>30.0</td>\n",
       "      <td>95.0</td>\n",
       "      <td>...</td>\n",
       "      <td>38.482401</td>\n",
       "      <td>Wildfire</td>\n",
       "      <td>cd5d2222-9721-4800-a0b7-604d56b86a93</td>\n",
       "      <td>https://www.fire.ca.gov/incidents/2025/9/29/vl...</td>\n",
       "      <td>NaN</td>\n",
       "      <td>NaN</td>\n",
       "      <td>2025-09-29</td>\n",
       "      <td>Y</td>\n",
       "      <td>True</td>\n",
       "      <td>False</td>\n",
       "    </tr>\n",
       "    <tr>\n",
       "      <th>3339</th>\n",
       "      <td>Paloma Fire</td>\n",
       "      <td>Y</td>\n",
       "      <td>2025-09-30T21:41:00Z</td>\n",
       "      <td>2025-09-30T01:08:26Z</td>\n",
       "      <td>CAL FIRE Madera-Mariposa-Merced Unit</td>\n",
       "      <td>NaN</td>\n",
       "      <td>Mariposa</td>\n",
       "      <td>Paloma Road and Hornitos Road</td>\n",
       "      <td>86.0</td>\n",
       "      <td>100.0</td>\n",
       "      <td>...</td>\n",
       "      <td>37.482008</td>\n",
       "      <td>Wildfire</td>\n",
       "      <td>5fa1beec-2657-45ff-8f6c-3c16313ad424</td>\n",
       "      <td>https://www.fire.ca.gov/incidents/2025/9/30/pa...</td>\n",
       "      <td>2025-09-30T18:44:00Z</td>\n",
       "      <td>2025-09-30</td>\n",
       "      <td>2025-09-30</td>\n",
       "      <td>N</td>\n",
       "      <td>True</td>\n",
       "      <td>False</td>\n",
       "    </tr>\n",
       "  </tbody>\n",
       "</table>\n",
       "<p>3340 rows × 23 columns</p>\n",
       "</div>"
      ],
      "text/plain": [
       "      incident_name incident_is_final  incident_date_last_update  \\\n",
       "0       Bridge Fire                 Y       2018-01-09T13:46:00Z   \n",
       "1         Pala Fire                 Y       2020-09-16T14:07:35Z   \n",
       "2        River Fire                 Y       2022-10-24T11:39:23Z   \n",
       "3     Fawnskin Fire                 Y       2013-04-22T09:00:00Z   \n",
       "4         Gold Fire                 Y       2013-05-01T07:00:00Z   \n",
       "...             ...               ...                        ...   \n",
       "3335      Lost Fire                 Y       2025-09-28T09:51:03Z   \n",
       "3336   Martell Fire                 Y       2025-09-28T09:49:59Z   \n",
       "3337      Cobb Fire                 Y       2025-09-29T07:12:14Z   \n",
       "3338     Vleck Fire                 N  2025-09-30T13:00:14-07:00   \n",
       "3339    Paloma Fire                 Y       2025-09-30T21:41:00Z   \n",
       "\n",
       "     incident_date_created          incident_administrative_unit  \\\n",
       "0     2017-10-31T11:22:00Z       Shasta-Trinity National Forest    \n",
       "1     2009-05-24T14:56:00Z               CAL FIRE San Diego Unit   \n",
       "2     2013-02-24T08:16:00Z          CAL FIRE San Bernardino Unit   \n",
       "3     2013-04-20T17:30:00Z        San Bernardino National Forest   \n",
       "4     2013-04-30T12:59:00Z  CAL FIRE Madera-Mariposa-Merced Unit   \n",
       "...                    ...                                   ...   \n",
       "3335  2025-09-25T08:00:00Z        Ventura County Fire Department   \n",
       "3336  2025-09-26T14:45:08Z      CAL FIRE Tuolumne-Calaveras Unit   \n",
       "3337  2025-09-26T15:56:10Z            Six Rivers National Forest   \n",
       "3338  2025-09-29T12:02:36Z        CAL FIRE Amador-El Dorado Unit   \n",
       "3339  2025-09-30T01:08:26Z  CAL FIRE Madera-Mariposa-Merced Unit   \n",
       "\n",
       "      incident_administrative_unit_url incident_county  \\\n",
       "0                                  NaN          Shasta   \n",
       "1                                  NaN       San Diego   \n",
       "2                                  NaN            Inyo   \n",
       "3                                  NaN  San Bernardino   \n",
       "4                                  NaN          Madera   \n",
       "...                                ...             ...   \n",
       "3335                               NaN         Ventura   \n",
       "3336                               NaN      Stanislaus   \n",
       "3337                               NaN        Humboldt   \n",
       "3338                               NaN      Sacramento   \n",
       "3339                               NaN        Mariposa   \n",
       "\n",
       "                                      incident_location  \\\n",
       "0     I-5 and Turntable Bay, 7 miles NE of Shasta Lake    \n",
       "1           Hwy 76 and Pala Temecula, northwest of Pala   \n",
       "2     south of Narrow Gauge Rd & north of Hwy 136, e...   \n",
       "3     west of Delamar Mountain, north of the communi...   \n",
       "4     Between Road 210 and Road 200 near Fine Gold C...   \n",
       "...                                                 ...   \n",
       "3335                Near Lost Canyon Drive, Simi Valley   \n",
       "3336  South of Telegraph Road and Northeast of Sonor...   \n",
       "3337    Cobb Road and Rattlesnake Bridge Road, Dinsmore   \n",
       "3338                 Van Vleck Road and Jackson Highway   \n",
       "3339                      Paloma Road and Hornitos Road   \n",
       "\n",
       "      incident_acres_burned  incident_containment  ... incident_latitude  \\\n",
       "0                      37.0                 100.0  ...         40.774000   \n",
       "1                     122.0                 100.0  ...          1.000000   \n",
       "2                     407.0                 100.0  ...         36.602575   \n",
       "3                      30.0                 100.0  ...         34.288877   \n",
       "4                     274.0                 100.0  ...         37.116295   \n",
       "...                     ...                   ...  ...               ...   \n",
       "3335                   13.0                 100.0  ...         34.301578   \n",
       "3336                   37.0                 100.0  ...         37.906127   \n",
       "3337                   12.0                 100.0  ...         40.463864   \n",
       "3338                   30.0                  95.0  ...         38.482401   \n",
       "3339                   86.0                 100.0  ...         37.482008   \n",
       "\n",
       "     incident_type                           incident_id  \\\n",
       "0              NaN  2ca11d45-8139-4c16-8af0-880d99b21e82   \n",
       "1         Wildfire  8f61f461-552d-4538-b186-35ab030da416   \n",
       "2              NaN  094719ba-a47b-4abb-9ec5-a506b2b9fd23   \n",
       "3              NaN  58f89ff8-bd3e-4355-b1c0-8fa05c747d3f   \n",
       "4              NaN  357ffc13-bef9-48eb-810f-c5de851972eb   \n",
       "...            ...                                   ...   \n",
       "3335      Wildfire  75c850b6-27a5-493e-aaef-a42e02b2eab4   \n",
       "3336      Wildfire  2d15d2af-d4a5-4f41-a17c-b17e3030ea93   \n",
       "3337      Wildfire  793418f8-d217-44c3-8409-617b2a3107a2   \n",
       "3338      Wildfire  cd5d2222-9721-4800-a0b7-604d56b86a93   \n",
       "3339      Wildfire  5fa1beec-2657-45ff-8f6c-3c16313ad424   \n",
       "\n",
       "                                           incident_url  \\\n",
       "0     https://www.fire.ca.gov/incidents/2017/10/31/b...   \n",
       "1     https://www.fire.ca.gov/incidents/2009/5/24/pa...   \n",
       "2     https://www.fire.ca.gov/incidents/2013/2/24/ri...   \n",
       "3     https://www.fire.ca.gov/incidents/2013/4/20/fa...   \n",
       "4     https://www.fire.ca.gov/incidents/2013/4/30/go...   \n",
       "...                                                 ...   \n",
       "3335  https://www.fire.ca.gov/incidents/2025/9/25/lo...   \n",
       "3336  https://www.fire.ca.gov/incidents/2025/9/26/ma...   \n",
       "3337  https://www.fire.ca.gov/incidents/2025/9/26/co...   \n",
       "3338  https://www.fire.ca.gov/incidents/2025/9/29/vl...   \n",
       "3339  https://www.fire.ca.gov/incidents/2025/9/30/pa...   \n",
       "\n",
       "     incident_date_extinguished incident_dateonly_extinguished  \\\n",
       "0          2018-01-09T13:46:00Z                     2018-01-09   \n",
       "1          2009-05-25T00:00:00Z                     2009-05-25   \n",
       "2          2013-02-28T20:00:00Z                     2013-02-28   \n",
       "3          2013-04-22T09:00:00Z                     2013-04-22   \n",
       "4          2013-05-01T07:00:00Z                     2013-05-01   \n",
       "...                         ...                            ...   \n",
       "3335       2025-09-27T14:00:00Z                     2025-09-27   \n",
       "3336       2025-09-26T23:30:00Z                     2025-09-26   \n",
       "3337       2025-09-28T17:00:00Z                     2025-09-28   \n",
       "3338                        NaN                            NaN   \n",
       "3339       2025-09-30T18:44:00Z                     2025-09-30   \n",
       "\n",
       "     incident_dateonly_created is_active calfire_incident notification_desired  \n",
       "0                   2017-10-31         N            False                False  \n",
       "1                   2009-05-24         N             True                False  \n",
       "2                   2013-02-24         N             True                False  \n",
       "3                   2013-04-20         N            False                False  \n",
       "4                   2013-04-30         N             True                False  \n",
       "...                        ...       ...              ...                  ...  \n",
       "3335                2025-09-25         N            False                False  \n",
       "3336                2025-09-26         N             True                False  \n",
       "3337                2025-09-26         N             True                False  \n",
       "3338                2025-09-29         Y             True                False  \n",
       "3339                2025-09-30         N             True                False  \n",
       "\n",
       "[3340 rows x 23 columns]"
      ]
     },
     "execution_count": 6,
     "metadata": {},
     "output_type": "execute_result"
    }
   ],
   "source": [
    "DF = pd.read_csv('mapdataall.csv')\n",
    "DF"
   ]
  },
  {
   "cell_type": "markdown",
   "id": "941e4499-edd1-4210-b3ff-292dd2eb4df7",
   "metadata": {},
   "source": [
    "**Q1** How many variables and observations?\n",
    "\n",
    "**Q2** How many different incident types are there?\n",
    "\n",
    "**Q3** Make a histogram of the acres burned and color the bars by whether or not the incident was a calfire incident. You will probably need to make a mask to remove very small and very large fires. How many fires burned more than 100,000 acres? What is the largest fire in the data?\n",
    "\n",
    "**Extra Q** EXTRA - CHALLENGE - See if you can create a graph that answers the question: Are fires getting bigger or more frequent over time? You get complete creative control on how to answer this question!"
   ]
  },
  {
   "cell_type": "code",
   "execution_count": 7,
   "id": "df36876b-02c2-4d86-b55b-62819a368bf6",
   "metadata": {},
   "outputs": [
    {
     "data": {
      "text/plain": [
       "(3340, 23)"
      ]
     },
     "execution_count": 7,
     "metadata": {},
     "output_type": "execute_result"
    }
   ],
   "source": [
    "DF.shape"
   ]
  },
  {
   "cell_type": "markdown",
   "id": "0e1f769b-d87d-429a-9de8-c35af020525d",
   "metadata": {},
   "source": [
    "There is 23 variables. There is 3,340 observations in this data set.\n",
    "There is only one type of incident because they are all fires."
   ]
  },
  {
   "cell_type": "code",
   "execution_count": 8,
   "id": "0388222e-a80b-4392-99cd-3966254c4017",
   "metadata": {
    "scrolled": true
   },
   "outputs": [
    {
     "data": {
      "text/html": [
       "<div>\n",
       "<style scoped>\n",
       "    .dataframe tbody tr th:only-of-type {\n",
       "        vertical-align: middle;\n",
       "    }\n",
       "\n",
       "    .dataframe tbody tr th {\n",
       "        vertical-align: top;\n",
       "    }\n",
       "\n",
       "    .dataframe thead th {\n",
       "        text-align: right;\n",
       "    }\n",
       "</style>\n",
       "<table border=\"1\" class=\"dataframe\">\n",
       "  <thead>\n",
       "    <tr style=\"text-align: right;\">\n",
       "      <th></th>\n",
       "      <th>incident_name</th>\n",
       "      <th>incident_is_final</th>\n",
       "      <th>incident_date_last_update</th>\n",
       "      <th>incident_date_created</th>\n",
       "      <th>incident_administrative_unit</th>\n",
       "      <th>incident_administrative_unit_url</th>\n",
       "      <th>incident_county</th>\n",
       "      <th>incident_location</th>\n",
       "      <th>incident_acres_burned</th>\n",
       "      <th>incident_containment</th>\n",
       "      <th>...</th>\n",
       "      <th>incident_latitude</th>\n",
       "      <th>incident_type</th>\n",
       "      <th>incident_id</th>\n",
       "      <th>incident_url</th>\n",
       "      <th>incident_date_extinguished</th>\n",
       "      <th>incident_dateonly_extinguished</th>\n",
       "      <th>incident_dateonly_created</th>\n",
       "      <th>is_active</th>\n",
       "      <th>calfire_incident</th>\n",
       "      <th>notification_desired</th>\n",
       "    </tr>\n",
       "  </thead>\n",
       "  <tbody>\n",
       "    <tr>\n",
       "      <th>122</th>\n",
       "      <td>Rim Fire</td>\n",
       "      <td>Y</td>\n",
       "      <td>2013-09-06T18:30:00Z</td>\n",
       "      <td>2013-08-17T15:25:00Z</td>\n",
       "      <td>Stanislaus National Forest/Yosemite National Park</td>\n",
       "      <td>NaN</td>\n",
       "      <td>Tuolumne</td>\n",
       "      <td>3 miles east of Groveland along Hwy 120</td>\n",
       "      <td>257314.0</td>\n",
       "      <td>100.0</td>\n",
       "      <td>...</td>\n",
       "      <td>37.857000</td>\n",
       "      <td>NaN</td>\n",
       "      <td>5fb18d4d-213f-4d83-a179-daaf11939e78</td>\n",
       "      <td>https://www.fire.ca.gov/incidents/2013/8/17/ri...</td>\n",
       "      <td>2013-09-06T18:30:00Z</td>\n",
       "      <td>2013-09-06</td>\n",
       "      <td>2013-08-17</td>\n",
       "      <td>N</td>\n",
       "      <td>True</td>\n",
       "      <td>False</td>\n",
       "    </tr>\n",
       "    <tr>\n",
       "      <th>311</th>\n",
       "      <td>Rough Fire</td>\n",
       "      <td>Y</td>\n",
       "      <td>2015-11-09T12:00:00Z</td>\n",
       "      <td>2015-07-31T19:00:00Z</td>\n",
       "      <td>Sierra National Forest</td>\n",
       "      <td>NaN</td>\n",
       "      <td>Fresno</td>\n",
       "      <td>5 miles North of Hume Lake and 2.5 miles to th...</td>\n",
       "      <td>151623.0</td>\n",
       "      <td>100.0</td>\n",
       "      <td>...</td>\n",
       "      <td>36.874000</td>\n",
       "      <td>NaN</td>\n",
       "      <td>8c788c0a-d1fc-46d7-a17c-23f786831f7d</td>\n",
       "      <td>https://www.fire.ca.gov/incidents/2015/7/31/ro...</td>\n",
       "      <td>2015-11-09T12:00:00Z</td>\n",
       "      <td>2015-11-09</td>\n",
       "      <td>2015-07-31</td>\n",
       "      <td>N</td>\n",
       "      <td>False</td>\n",
       "      <td>False</td>\n",
       "    </tr>\n",
       "    <tr>\n",
       "      <th>398</th>\n",
       "      <td>Soberanes Fire</td>\n",
       "      <td>Y</td>\n",
       "      <td>2022-10-26T08:16:29Z</td>\n",
       "      <td>2016-07-22T08:48:00Z</td>\n",
       "      <td>US Forest Service - Los Padres National Forest</td>\n",
       "      <td>NaN</td>\n",
       "      <td>Monterey</td>\n",
       "      <td>Soberanes Creek, Garrapata State Park, Palo Co...</td>\n",
       "      <td>132127.0</td>\n",
       "      <td>100.0</td>\n",
       "      <td>...</td>\n",
       "      <td>36.459940</td>\n",
       "      <td>NaN</td>\n",
       "      <td>977ac7ce-4204-4cd3-9f89-727142165261</td>\n",
       "      <td>https://www.fire.ca.gov/incidents/2016/7/22/so...</td>\n",
       "      <td>2016-10-13T11:30:00Z</td>\n",
       "      <td>2016-10-13</td>\n",
       "      <td>2016-07-22</td>\n",
       "      <td>N</td>\n",
       "      <td>True</td>\n",
       "      <td>False</td>\n",
       "    </tr>\n",
       "    <tr>\n",
       "      <th>744</th>\n",
       "      <td>Chetco Fire</td>\n",
       "      <td>Y</td>\n",
       "      <td>2018-01-09T11:52:00Z</td>\n",
       "      <td>2017-07-12T13:45:00Z</td>\n",
       "      <td>Rogue River-Siskiyou National Forest</td>\n",
       "      <td>NaN</td>\n",
       "      <td>NaN</td>\n",
       "      <td>Chetco River corridor, in the Kalmiopsis Wilde...</td>\n",
       "      <td>191125.0</td>\n",
       "      <td>100.0</td>\n",
       "      <td>...</td>\n",
       "      <td>42.298960</td>\n",
       "      <td>NaN</td>\n",
       "      <td>5555d1d7-0bb4-4c66-81b6-e1113987f217</td>\n",
       "      <td>https://www.fire.ca.gov/incidents/2017/7/12/ch...</td>\n",
       "      <td>2018-01-09T11:52:00Z</td>\n",
       "      <td>2018-01-09</td>\n",
       "      <td>2017-07-12</td>\n",
       "      <td>N</td>\n",
       "      <td>False</td>\n",
       "      <td>False</td>\n",
       "    </tr>\n",
       "    <tr>\n",
       "      <th>884</th>\n",
       "      <td>Thomas Fire</td>\n",
       "      <td>Y</td>\n",
       "      <td>2024-09-23T16:01:41Z</td>\n",
       "      <td>2017-12-04T18:28:00Z</td>\n",
       "      <td>US Forest Service - Los Padres National Forest</td>\n",
       "      <td>NaN</td>\n",
       "      <td>Santa Barbara, Ventura</td>\n",
       "      <td>Hwy 150 and Hwy 126, north of Santa Paula</td>\n",
       "      <td>281893.0</td>\n",
       "      <td>100.0</td>\n",
       "      <td>...</td>\n",
       "      <td>34.415210</td>\n",
       "      <td>Wildfire</td>\n",
       "      <td>d28bc34e-73a8-454d-9e55-dea7bdd40bee</td>\n",
       "      <td>https://www.fire.ca.gov/incidents/2017/12/4/th...</td>\n",
       "      <td>2018-01-12T11:24:00Z</td>\n",
       "      <td>2018-01-12</td>\n",
       "      <td>2017-12-04</td>\n",
       "      <td>N</td>\n",
       "      <td>True</td>\n",
       "      <td>False</td>\n",
       "    </tr>\n",
       "    <tr>\n",
       "      <th>1082</th>\n",
       "      <td>Carr Fire</td>\n",
       "      <td>Y</td>\n",
       "      <td>2022-10-24T10:31:23Z</td>\n",
       "      <td>2018-07-23T13:15:00Z</td>\n",
       "      <td>Unified Command: CAL FIRE Shasta-Trinity Unit,...</td>\n",
       "      <td>NaN</td>\n",
       "      <td>Shasta, Trinity</td>\n",
       "      <td>Hwy 299 and Carr Powerhouse Rd, Whiskeytown</td>\n",
       "      <td>229651.0</td>\n",
       "      <td>100.0</td>\n",
       "      <td>...</td>\n",
       "      <td>40.654280</td>\n",
       "      <td>Wildfire</td>\n",
       "      <td>240b1f55-0f4e-448d-a4ce-3ecfec7a6c9d</td>\n",
       "      <td>https://www.fire.ca.gov/incidents/2018/7/23/ca...</td>\n",
       "      <td>2018-08-30T09:37:00Z</td>\n",
       "      <td>2018-08-30</td>\n",
       "      <td>2018-07-23</td>\n",
       "      <td>N</td>\n",
       "      <td>True</td>\n",
       "      <td>False</td>\n",
       "    </tr>\n",
       "    <tr>\n",
       "      <th>1099</th>\n",
       "      <td>Ranch Fire (Mendocino Complex)</td>\n",
       "      <td>Y</td>\n",
       "      <td>2022-10-24T10:23:14Z</td>\n",
       "      <td>2018-07-27T12:05:00Z</td>\n",
       "      <td>USFS Mendocino National Forest</td>\n",
       "      <td>NaN</td>\n",
       "      <td>Colusa, Mendocino, Glenn, Lake</td>\n",
       "      <td>off Highway 20 near Potter Valley, northeast o...</td>\n",
       "      <td>410203.0</td>\n",
       "      <td>100.0</td>\n",
       "      <td>...</td>\n",
       "      <td>39.243283</td>\n",
       "      <td>Wildfire</td>\n",
       "      <td>90b0daf7-5d84-42d9-bb35-bb78d4faf950</td>\n",
       "      <td>https://www.fire.ca.gov/incidents/2018/7/27/ra...</td>\n",
       "      <td>2019-01-04T09:33:00Z</td>\n",
       "      <td>2019-01-04</td>\n",
       "      <td>2018-07-27</td>\n",
       "      <td>N</td>\n",
       "      <td>True</td>\n",
       "      <td>False</td>\n",
       "    </tr>\n",
       "    <tr>\n",
       "      <th>1192</th>\n",
       "      <td>Camp Fire</td>\n",
       "      <td>Y</td>\n",
       "      <td>2024-09-26T13:34:16Z</td>\n",
       "      <td>2018-11-08T06:33:00Z</td>\n",
       "      <td>Unified Command: CAL FIRE, Butte County Sherif...</td>\n",
       "      <td>NaN</td>\n",
       "      <td>Butte</td>\n",
       "      <td>Pulga Road at Camp Creek Road near Jarbo Gap</td>\n",
       "      <td>153336.0</td>\n",
       "      <td>100.0</td>\n",
       "      <td>...</td>\n",
       "      <td>39.813400</td>\n",
       "      <td>Wildfire</td>\n",
       "      <td>75dafe80-f18a-4a4a-9a37-4b564c5f6014</td>\n",
       "      <td>https://www.fire.ca.gov/incidents/2018/11/8/ca...</td>\n",
       "      <td>2018-11-25T08:00:00Z</td>\n",
       "      <td>2018-11-25</td>\n",
       "      <td>2018-11-08</td>\n",
       "      <td>N</td>\n",
       "      <td>True</td>\n",
       "      <td>False</td>\n",
       "    </tr>\n",
       "    <tr>\n",
       "      <th>1653</th>\n",
       "      <td>August Complex (includes Doe Fire)</td>\n",
       "      <td>Y</td>\n",
       "      <td>2020-11-18T10:22:42Z</td>\n",
       "      <td>2020-08-16T20:37:26Z</td>\n",
       "      <td>Mendocino National Forest</td>\n",
       "      <td>NaN</td>\n",
       "      <td>Mendocino, Humboldt, Trinity, Tehama, Glenn, L...</td>\n",
       "      <td>Mendocino, Humboldt, Trinity, Tehama, Glenn, ...</td>\n",
       "      <td>1032648.0</td>\n",
       "      <td>100.0</td>\n",
       "      <td>...</td>\n",
       "      <td>39.776000</td>\n",
       "      <td>Wildfire</td>\n",
       "      <td>b8f267be-9911-44ee-8a73-7a0537fbd6fa</td>\n",
       "      <td>https://www.fire.ca.gov/incidents/2020/8/16/au...</td>\n",
       "      <td>2020-11-11T10:21:44Z</td>\n",
       "      <td>2020-11-11</td>\n",
       "      <td>2020-08-16</td>\n",
       "      <td>N</td>\n",
       "      <td>False</td>\n",
       "      <td>False</td>\n",
       "    </tr>\n",
       "    <tr>\n",
       "      <th>1660</th>\n",
       "      <td>SCU Lightning Complex</td>\n",
       "      <td>Y</td>\n",
       "      <td>2022-10-21T15:13:34Z</td>\n",
       "      <td>2020-08-16T09:25:25Z</td>\n",
       "      <td>CAL FIRE Santa Clara Unit</td>\n",
       "      <td>NaN</td>\n",
       "      <td>Santa Clara, San Joaquin, Contra Costa, Alamed...</td>\n",
       "      <td>Multiple locations throughout Santa Clara Coun...</td>\n",
       "      <td>396624.0</td>\n",
       "      <td>100.0</td>\n",
       "      <td>...</td>\n",
       "      <td>37.439437</td>\n",
       "      <td>Wildfire</td>\n",
       "      <td>22c6ea3c-304c-4b3b-bfba-7c9dfc63d9da</td>\n",
       "      <td>https://www.fire.ca.gov/incidents/2020/8/16/sc...</td>\n",
       "      <td>2020-10-01T10:29:00Z</td>\n",
       "      <td>2020-10-01</td>\n",
       "      <td>2020-08-16</td>\n",
       "      <td>N</td>\n",
       "      <td>True</td>\n",
       "      <td>False</td>\n",
       "    </tr>\n",
       "    <tr>\n",
       "      <th>1666</th>\n",
       "      <td>LNU Lightning Complex</td>\n",
       "      <td>Y</td>\n",
       "      <td>2023-03-20T13:16:19Z</td>\n",
       "      <td>2020-08-17T08:00:00Z</td>\n",
       "      <td>CAL FIRE Sonoma-Lake-Napa Unit</td>\n",
       "      <td>NaN</td>\n",
       "      <td>Napa, Solano, Lake, Sonoma, Yolo</td>\n",
       "      <td>See details below</td>\n",
       "      <td>363220.0</td>\n",
       "      <td>100.0</td>\n",
       "      <td>...</td>\n",
       "      <td>38.481930</td>\n",
       "      <td>Wildfire</td>\n",
       "      <td>9645c55f-2b11-40ab-9ae7-df424d685a2d</td>\n",
       "      <td>https://www.fire.ca.gov/incidents/2020/8/17/ln...</td>\n",
       "      <td>2020-10-02T10:38:00Z</td>\n",
       "      <td>2020-10-02</td>\n",
       "      <td>2020-08-17</td>\n",
       "      <td>N</td>\n",
       "      <td>True</td>\n",
       "      <td>False</td>\n",
       "    </tr>\n",
       "    <tr>\n",
       "      <th>1683</th>\n",
       "      <td>Creek Fire</td>\n",
       "      <td>Y</td>\n",
       "      <td>2022-10-21T15:12:25Z</td>\n",
       "      <td>2020-09-04T18:21:00Z</td>\n",
       "      <td>Sierra National Forest</td>\n",
       "      <td>NaN</td>\n",
       "      <td>Fresno, Madera</td>\n",
       "      <td>Both sides of the San Joaquin River near Mammo...</td>\n",
       "      <td>379895.0</td>\n",
       "      <td>100.0</td>\n",
       "      <td>...</td>\n",
       "      <td>37.191470</td>\n",
       "      <td>Wildfire</td>\n",
       "      <td>7e359448-0344-4407-a289-e4fb7823ac3c</td>\n",
       "      <td>https://www.fire.ca.gov/incidents/2020/9/4/cre...</td>\n",
       "      <td>NaN</td>\n",
       "      <td>NaN</td>\n",
       "      <td>2020-09-04</td>\n",
       "      <td>N</td>\n",
       "      <td>False</td>\n",
       "      <td>False</td>\n",
       "    </tr>\n",
       "    <tr>\n",
       "      <th>1828</th>\n",
       "      <td>Beckwourth Complex</td>\n",
       "      <td>Y</td>\n",
       "      <td>2021-09-26T08:38:14Z</td>\n",
       "      <td>2021-07-04T09:26:06Z</td>\n",
       "      <td>Plumas National Forest</td>\n",
       "      <td>NaN</td>\n",
       "      <td>Plumas</td>\n",
       "      <td>northeast of Beckwourth</td>\n",
       "      <td>105670.0</td>\n",
       "      <td>100.0</td>\n",
       "      <td>...</td>\n",
       "      <td>39.832030</td>\n",
       "      <td>Wildfire</td>\n",
       "      <td>882f419d-ff9e-4533-b8da-a428ffcfec6e</td>\n",
       "      <td>https://www.fire.ca.gov/incidents/2021/7/4/bec...</td>\n",
       "      <td>2021-09-22T08:37:37Z</td>\n",
       "      <td>2021-09-22</td>\n",
       "      <td>2021-07-04</td>\n",
       "      <td>N</td>\n",
       "      <td>False</td>\n",
       "      <td>False</td>\n",
       "    </tr>\n",
       "    <tr>\n",
       "      <th>1841</th>\n",
       "      <td>Dixie Fire</td>\n",
       "      <td>Y</td>\n",
       "      <td>2022-10-14T08:14:49Z</td>\n",
       "      <td>2021-07-13T17:15:00Z</td>\n",
       "      <td>Lassen National Forest and National Park Service</td>\n",
       "      <td>NaN</td>\n",
       "      <td>Butte, Plumas, Shasta, Lassen, Tehama</td>\n",
       "      <td>Above the Cresta Dam, Feather River Canyon</td>\n",
       "      <td>963309.0</td>\n",
       "      <td>100.0</td>\n",
       "      <td>...</td>\n",
       "      <td>39.871306</td>\n",
       "      <td>Wildfire</td>\n",
       "      <td>00016d5d-1647-49e4-a02a-abf46b8480ae</td>\n",
       "      <td>https://www.fire.ca.gov/incidents/2021/7/13/di...</td>\n",
       "      <td>2021-10-25T07:45:46Z</td>\n",
       "      <td>2021-10-25</td>\n",
       "      <td>2021-07-13</td>\n",
       "      <td>N</td>\n",
       "      <td>False</td>\n",
       "      <td>False</td>\n",
       "    </tr>\n",
       "    <tr>\n",
       "      <th>1856</th>\n",
       "      <td>McFarland Fire</td>\n",
       "      <td>Y</td>\n",
       "      <td>2021-09-20T08:26:23Z</td>\n",
       "      <td>2021-07-30T18:44:00Z</td>\n",
       "      <td>Shasta-Trinity National Forest</td>\n",
       "      <td>NaN</td>\n",
       "      <td>Shasta, Trinity, Tehama</td>\n",
       "      <td>McFarland Ridge and Baker Flat, west of Platina</td>\n",
       "      <td>122653.0</td>\n",
       "      <td>100.0</td>\n",
       "      <td>...</td>\n",
       "      <td>40.350000</td>\n",
       "      <td>Fire</td>\n",
       "      <td>d0174b70-8652-4242-bf7f-b00e98a48319</td>\n",
       "      <td>https://www.fire.ca.gov/incidents/2021/7/30/mc...</td>\n",
       "      <td>2021-09-16T18:00:00Z</td>\n",
       "      <td>2021-09-16</td>\n",
       "      <td>2021-07-30</td>\n",
       "      <td>N</td>\n",
       "      <td>False</td>\n",
       "      <td>False</td>\n",
       "    </tr>\n",
       "    <tr>\n",
       "      <th>1860</th>\n",
       "      <td>Antelope Fire</td>\n",
       "      <td>Y</td>\n",
       "      <td>2022-10-14T08:05:09Z</td>\n",
       "      <td>2021-08-01T11:28:25Z</td>\n",
       "      <td>Klamath National Forest</td>\n",
       "      <td>NaN</td>\n",
       "      <td>Siskiyou</td>\n",
       "      <td>Antelope Creek and Forest Road 41N28, south of...</td>\n",
       "      <td>145632.0</td>\n",
       "      <td>100.0</td>\n",
       "      <td>...</td>\n",
       "      <td>41.528990</td>\n",
       "      <td>Wildfire</td>\n",
       "      <td>dc3380c7-ff32-4062-a4e8-be99b655f2c6</td>\n",
       "      <td>https://www.fire.ca.gov/incidents/2021/8/1/ant...</td>\n",
       "      <td>2021-10-15T12:01:36Z</td>\n",
       "      <td>2021-10-15</td>\n",
       "      <td>2021-08-01</td>\n",
       "      <td>N</td>\n",
       "      <td>False</td>\n",
       "      <td>False</td>\n",
       "    </tr>\n",
       "    <tr>\n",
       "      <th>1862</th>\n",
       "      <td>Monument Fire</td>\n",
       "      <td>Y</td>\n",
       "      <td>2022-10-14T08:13:30Z</td>\n",
       "      <td>2021-07-30T12:28:00Z</td>\n",
       "      <td>Shasta Trinity National Forest</td>\n",
       "      <td>NaN</td>\n",
       "      <td>Trinity</td>\n",
       "      <td>Del Loma, CA near Monument Peak</td>\n",
       "      <td>223124.0</td>\n",
       "      <td>100.0</td>\n",
       "      <td>...</td>\n",
       "      <td>40.752000</td>\n",
       "      <td>Wildfire</td>\n",
       "      <td>1d1bb813-5955-438a-a2cd-0e2d46074f1a</td>\n",
       "      <td>https://www.fire.ca.gov/incidents/2021/7/30/mo...</td>\n",
       "      <td>2021-10-26T13:15:01Z</td>\n",
       "      <td>2021-10-26</td>\n",
       "      <td>2021-07-30</td>\n",
       "      <td>N</td>\n",
       "      <td>False</td>\n",
       "      <td>False</td>\n",
       "    </tr>\n",
       "    <tr>\n",
       "      <th>1863</th>\n",
       "      <td>River Complex</td>\n",
       "      <td>Y</td>\n",
       "      <td>2022-10-14T08:21:12Z</td>\n",
       "      <td>2021-07-30T18:17:40Z</td>\n",
       "      <td>Klamath National Forest</td>\n",
       "      <td>NaN</td>\n",
       "      <td>Siskiyou, Trinity</td>\n",
       "      <td>Scott Salmon Ranger District, west of Callahan</td>\n",
       "      <td>199359.0</td>\n",
       "      <td>100.0</td>\n",
       "      <td>...</td>\n",
       "      <td>41.389000</td>\n",
       "      <td>Wildfire</td>\n",
       "      <td>9284625d-a9bd-447b-b215-a40fe4a52697</td>\n",
       "      <td>https://www.fire.ca.gov/incidents/2021/7/30/ri...</td>\n",
       "      <td>2021-10-26T13:14:31Z</td>\n",
       "      <td>2021-10-26</td>\n",
       "      <td>2021-07-30</td>\n",
       "      <td>N</td>\n",
       "      <td>False</td>\n",
       "      <td>False</td>\n",
       "    </tr>\n",
       "    <tr>\n",
       "      <th>1873</th>\n",
       "      <td>Caldor Fire</td>\n",
       "      <td>Y</td>\n",
       "      <td>2023-02-16T11:40:23Z</td>\n",
       "      <td>2021-08-14T18:54:00Z</td>\n",
       "      <td>El Dorado National Forest</td>\n",
       "      <td>NaN</td>\n",
       "      <td>El Dorado, Alpine, Amador</td>\n",
       "      <td>East of Omo Ranch, South of the community of G...</td>\n",
       "      <td>221835.0</td>\n",
       "      <td>100.0</td>\n",
       "      <td>...</td>\n",
       "      <td>38.586000</td>\n",
       "      <td>Wildfire</td>\n",
       "      <td>a21c4d1f-87ed-4db1-85ea-eae41c90a0ac</td>\n",
       "      <td>https://www.fire.ca.gov/incidents/2021/8/14/ca...</td>\n",
       "      <td>2021-10-21T08:18:44Z</td>\n",
       "      <td>2021-10-21</td>\n",
       "      <td>2021-08-14</td>\n",
       "      <td>N</td>\n",
       "      <td>False</td>\n",
       "      <td>False</td>\n",
       "    </tr>\n",
       "    <tr>\n",
       "      <th>2552</th>\n",
       "      <td>Park Fire</td>\n",
       "      <td>Y</td>\n",
       "      <td>2025-07-29T10:23:45Z</td>\n",
       "      <td>2024-07-24T14:52:43Z</td>\n",
       "      <td>CAL FIRE Butte Unit, CAL FIRE Tehama-Glenn Uni...</td>\n",
       "      <td>NaN</td>\n",
       "      <td>Butte, Tehama</td>\n",
       "      <td>Off Upper Park Road in Bidwell Park, Chico</td>\n",
       "      <td>429603.0</td>\n",
       "      <td>100.0</td>\n",
       "      <td>...</td>\n",
       "      <td>39.778900</td>\n",
       "      <td>Wildfire</td>\n",
       "      <td>d9a0045f-b30c-490b-b181-5be460544947</td>\n",
       "      <td>https://www.fire.ca.gov/incidents/2024/7/24/pa...</td>\n",
       "      <td>NaN</td>\n",
       "      <td>NaN</td>\n",
       "      <td>2024-07-24</td>\n",
       "      <td>N</td>\n",
       "      <td>True</td>\n",
       "      <td>False</td>\n",
       "    </tr>\n",
       "    <tr>\n",
       "      <th>3165</th>\n",
       "      <td>Gifford Fire</td>\n",
       "      <td>Y</td>\n",
       "      <td>2025-09-28T22:02:04Z</td>\n",
       "      <td>2025-08-01T15:44:29Z</td>\n",
       "      <td>Los Padres National Forest</td>\n",
       "      <td>NaN</td>\n",
       "      <td>San Luis Obispo, Santa Barbara</td>\n",
       "      <td>Highway 166, Northeast of Santa Maria</td>\n",
       "      <td>131614.0</td>\n",
       "      <td>100.0</td>\n",
       "      <td>...</td>\n",
       "      <td>35.111258</td>\n",
       "      <td>Wildfire</td>\n",
       "      <td>fb7c1cc7-8104-4776-b89e-fd27cb9b7be9</td>\n",
       "      <td>https://www.fire.ca.gov/incidents/2025/8/1/gif...</td>\n",
       "      <td>NaN</td>\n",
       "      <td>NaN</td>\n",
       "      <td>2025-08-01</td>\n",
       "      <td>N</td>\n",
       "      <td>False</td>\n",
       "      <td>False</td>\n",
       "    </tr>\n",
       "  </tbody>\n",
       "</table>\n",
       "<p>21 rows × 23 columns</p>\n",
       "</div>"
      ],
      "text/plain": [
       "                           incident_name incident_is_final  \\\n",
       "122                             Rim Fire                 Y   \n",
       "311                          Rough Fire                  Y   \n",
       "398                       Soberanes Fire                 Y   \n",
       "744                          Chetco Fire                 Y   \n",
       "884                          Thomas Fire                 Y   \n",
       "1082                           Carr Fire                 Y   \n",
       "1099      Ranch Fire (Mendocino Complex)                 Y   \n",
       "1192                           Camp Fire                 Y   \n",
       "1653  August Complex (includes Doe Fire)                 Y   \n",
       "1660               SCU Lightning Complex                 Y   \n",
       "1666               LNU Lightning Complex                 Y   \n",
       "1683                          Creek Fire                 Y   \n",
       "1828                  Beckwourth Complex                 Y   \n",
       "1841                          Dixie Fire                 Y   \n",
       "1856                      McFarland Fire                 Y   \n",
       "1860                       Antelope Fire                 Y   \n",
       "1862                       Monument Fire                 Y   \n",
       "1863                       River Complex                 Y   \n",
       "1873                         Caldor Fire                 Y   \n",
       "2552                           Park Fire                 Y   \n",
       "3165                       Gifford Fire                  Y   \n",
       "\n",
       "     incident_date_last_update incident_date_created  \\\n",
       "122       2013-09-06T18:30:00Z  2013-08-17T15:25:00Z   \n",
       "311       2015-11-09T12:00:00Z  2015-07-31T19:00:00Z   \n",
       "398       2022-10-26T08:16:29Z  2016-07-22T08:48:00Z   \n",
       "744       2018-01-09T11:52:00Z  2017-07-12T13:45:00Z   \n",
       "884       2024-09-23T16:01:41Z  2017-12-04T18:28:00Z   \n",
       "1082      2022-10-24T10:31:23Z  2018-07-23T13:15:00Z   \n",
       "1099      2022-10-24T10:23:14Z  2018-07-27T12:05:00Z   \n",
       "1192      2024-09-26T13:34:16Z  2018-11-08T06:33:00Z   \n",
       "1653      2020-11-18T10:22:42Z  2020-08-16T20:37:26Z   \n",
       "1660      2022-10-21T15:13:34Z  2020-08-16T09:25:25Z   \n",
       "1666      2023-03-20T13:16:19Z  2020-08-17T08:00:00Z   \n",
       "1683      2022-10-21T15:12:25Z  2020-09-04T18:21:00Z   \n",
       "1828      2021-09-26T08:38:14Z  2021-07-04T09:26:06Z   \n",
       "1841      2022-10-14T08:14:49Z  2021-07-13T17:15:00Z   \n",
       "1856      2021-09-20T08:26:23Z  2021-07-30T18:44:00Z   \n",
       "1860      2022-10-14T08:05:09Z  2021-08-01T11:28:25Z   \n",
       "1862      2022-10-14T08:13:30Z  2021-07-30T12:28:00Z   \n",
       "1863      2022-10-14T08:21:12Z  2021-07-30T18:17:40Z   \n",
       "1873      2023-02-16T11:40:23Z  2021-08-14T18:54:00Z   \n",
       "2552      2025-07-29T10:23:45Z  2024-07-24T14:52:43Z   \n",
       "3165      2025-09-28T22:02:04Z  2025-08-01T15:44:29Z   \n",
       "\n",
       "                           incident_administrative_unit  \\\n",
       "122   Stanislaus National Forest/Yosemite National Park   \n",
       "311                             Sierra National Forest    \n",
       "398      US Forest Service - Los Padres National Forest   \n",
       "744                Rogue River-Siskiyou National Forest   \n",
       "884     US Forest Service - Los Padres National Forest    \n",
       "1082  Unified Command: CAL FIRE Shasta-Trinity Unit,...   \n",
       "1099                    USFS Mendocino National Forest    \n",
       "1192  Unified Command: CAL FIRE, Butte County Sherif...   \n",
       "1653                          Mendocino National Forest   \n",
       "1660                          CAL FIRE Santa Clara Unit   \n",
       "1666                    CAL FIRE Sonoma-Lake-Napa Unit    \n",
       "1683                            Sierra National Forest    \n",
       "1828                             Plumas National Forest   \n",
       "1841   Lassen National Forest and National Park Service   \n",
       "1856                     Shasta-Trinity National Forest   \n",
       "1860                            Klamath National Forest   \n",
       "1862                     Shasta Trinity National Forest   \n",
       "1863                            Klamath National Forest   \n",
       "1873                          El Dorado National Forest   \n",
       "2552  CAL FIRE Butte Unit, CAL FIRE Tehama-Glenn Uni...   \n",
       "3165                         Los Padres National Forest   \n",
       "\n",
       "      incident_administrative_unit_url  \\\n",
       "122                                NaN   \n",
       "311                                NaN   \n",
       "398                                NaN   \n",
       "744                                NaN   \n",
       "884                                NaN   \n",
       "1082                               NaN   \n",
       "1099                               NaN   \n",
       "1192                               NaN   \n",
       "1653                               NaN   \n",
       "1660                               NaN   \n",
       "1666                               NaN   \n",
       "1683                               NaN   \n",
       "1828                               NaN   \n",
       "1841                               NaN   \n",
       "1856                               NaN   \n",
       "1860                               NaN   \n",
       "1862                               NaN   \n",
       "1863                               NaN   \n",
       "1873                               NaN   \n",
       "2552                               NaN   \n",
       "3165                               NaN   \n",
       "\n",
       "                                        incident_county  \\\n",
       "122                                            Tuolumne   \n",
       "311                                              Fresno   \n",
       "398                                            Monterey   \n",
       "744                                                 NaN   \n",
       "884                              Santa Barbara, Ventura   \n",
       "1082                                    Shasta, Trinity   \n",
       "1099                     Colusa, Mendocino, Glenn, Lake   \n",
       "1192                                              Butte   \n",
       "1653  Mendocino, Humboldt, Trinity, Tehama, Glenn, L...   \n",
       "1660  Santa Clara, San Joaquin, Contra Costa, Alamed...   \n",
       "1666                   Napa, Solano, Lake, Sonoma, Yolo   \n",
       "1683                                     Fresno, Madera   \n",
       "1828                                             Plumas   \n",
       "1841              Butte, Plumas, Shasta, Lassen, Tehama   \n",
       "1856                            Shasta, Trinity, Tehama   \n",
       "1860                                           Siskiyou   \n",
       "1862                                            Trinity   \n",
       "1863                                  Siskiyou, Trinity   \n",
       "1873                          El Dorado, Alpine, Amador   \n",
       "2552                                      Butte, Tehama   \n",
       "3165                     San Luis Obispo, Santa Barbara   \n",
       "\n",
       "                                      incident_location  \\\n",
       "122             3 miles east of Groveland along Hwy 120   \n",
       "311   5 miles North of Hume Lake and 2.5 miles to th...   \n",
       "398   Soberanes Creek, Garrapata State Park, Palo Co...   \n",
       "744   Chetco River corridor, in the Kalmiopsis Wilde...   \n",
       "884          Hwy 150 and Hwy 126, north of Santa Paula    \n",
       "1082        Hwy 299 and Carr Powerhouse Rd, Whiskeytown   \n",
       "1099  off Highway 20 near Potter Valley, northeast o...   \n",
       "1192       Pulga Road at Camp Creek Road near Jarbo Gap   \n",
       "1653   Mendocino, Humboldt, Trinity, Tehama, Glenn, ...   \n",
       "1660  Multiple locations throughout Santa Clara Coun...   \n",
       "1666                                  See details below   \n",
       "1683  Both sides of the San Joaquin River near Mammo...   \n",
       "1828                            northeast of Beckwourth   \n",
       "1841         Above the Cresta Dam, Feather River Canyon   \n",
       "1856    McFarland Ridge and Baker Flat, west of Platina   \n",
       "1860  Antelope Creek and Forest Road 41N28, south of...   \n",
       "1862                    Del Loma, CA near Monument Peak   \n",
       "1863     Scott Salmon Ranger District, west of Callahan   \n",
       "1873  East of Omo Ranch, South of the community of G...   \n",
       "2552         Off Upper Park Road in Bidwell Park, Chico   \n",
       "3165              Highway 166, Northeast of Santa Maria   \n",
       "\n",
       "      incident_acres_burned  incident_containment  ... incident_latitude  \\\n",
       "122                257314.0                 100.0  ...         37.857000   \n",
       "311                151623.0                 100.0  ...         36.874000   \n",
       "398                132127.0                 100.0  ...         36.459940   \n",
       "744                191125.0                 100.0  ...         42.298960   \n",
       "884                281893.0                 100.0  ...         34.415210   \n",
       "1082               229651.0                 100.0  ...         40.654280   \n",
       "1099               410203.0                 100.0  ...         39.243283   \n",
       "1192               153336.0                 100.0  ...         39.813400   \n",
       "1653              1032648.0                 100.0  ...         39.776000   \n",
       "1660               396624.0                 100.0  ...         37.439437   \n",
       "1666               363220.0                 100.0  ...         38.481930   \n",
       "1683               379895.0                 100.0  ...         37.191470   \n",
       "1828               105670.0                 100.0  ...         39.832030   \n",
       "1841               963309.0                 100.0  ...         39.871306   \n",
       "1856               122653.0                 100.0  ...         40.350000   \n",
       "1860               145632.0                 100.0  ...         41.528990   \n",
       "1862               223124.0                 100.0  ...         40.752000   \n",
       "1863               199359.0                 100.0  ...         41.389000   \n",
       "1873               221835.0                 100.0  ...         38.586000   \n",
       "2552               429603.0                 100.0  ...         39.778900   \n",
       "3165               131614.0                 100.0  ...         35.111258   \n",
       "\n",
       "     incident_type                           incident_id  \\\n",
       "122            NaN  5fb18d4d-213f-4d83-a179-daaf11939e78   \n",
       "311            NaN  8c788c0a-d1fc-46d7-a17c-23f786831f7d   \n",
       "398            NaN  977ac7ce-4204-4cd3-9f89-727142165261   \n",
       "744            NaN  5555d1d7-0bb4-4c66-81b6-e1113987f217   \n",
       "884       Wildfire  d28bc34e-73a8-454d-9e55-dea7bdd40bee   \n",
       "1082      Wildfire  240b1f55-0f4e-448d-a4ce-3ecfec7a6c9d   \n",
       "1099      Wildfire  90b0daf7-5d84-42d9-bb35-bb78d4faf950   \n",
       "1192      Wildfire  75dafe80-f18a-4a4a-9a37-4b564c5f6014   \n",
       "1653      Wildfire  b8f267be-9911-44ee-8a73-7a0537fbd6fa   \n",
       "1660      Wildfire  22c6ea3c-304c-4b3b-bfba-7c9dfc63d9da   \n",
       "1666      Wildfire  9645c55f-2b11-40ab-9ae7-df424d685a2d   \n",
       "1683      Wildfire  7e359448-0344-4407-a289-e4fb7823ac3c   \n",
       "1828      Wildfire  882f419d-ff9e-4533-b8da-a428ffcfec6e   \n",
       "1841      Wildfire  00016d5d-1647-49e4-a02a-abf46b8480ae   \n",
       "1856          Fire  d0174b70-8652-4242-bf7f-b00e98a48319   \n",
       "1860      Wildfire  dc3380c7-ff32-4062-a4e8-be99b655f2c6   \n",
       "1862      Wildfire  1d1bb813-5955-438a-a2cd-0e2d46074f1a   \n",
       "1863      Wildfire  9284625d-a9bd-447b-b215-a40fe4a52697   \n",
       "1873      Wildfire  a21c4d1f-87ed-4db1-85ea-eae41c90a0ac   \n",
       "2552      Wildfire  d9a0045f-b30c-490b-b181-5be460544947   \n",
       "3165      Wildfire  fb7c1cc7-8104-4776-b89e-fd27cb9b7be9   \n",
       "\n",
       "                                           incident_url  \\\n",
       "122   https://www.fire.ca.gov/incidents/2013/8/17/ri...   \n",
       "311   https://www.fire.ca.gov/incidents/2015/7/31/ro...   \n",
       "398   https://www.fire.ca.gov/incidents/2016/7/22/so...   \n",
       "744   https://www.fire.ca.gov/incidents/2017/7/12/ch...   \n",
       "884   https://www.fire.ca.gov/incidents/2017/12/4/th...   \n",
       "1082  https://www.fire.ca.gov/incidents/2018/7/23/ca...   \n",
       "1099  https://www.fire.ca.gov/incidents/2018/7/27/ra...   \n",
       "1192  https://www.fire.ca.gov/incidents/2018/11/8/ca...   \n",
       "1653  https://www.fire.ca.gov/incidents/2020/8/16/au...   \n",
       "1660  https://www.fire.ca.gov/incidents/2020/8/16/sc...   \n",
       "1666  https://www.fire.ca.gov/incidents/2020/8/17/ln...   \n",
       "1683  https://www.fire.ca.gov/incidents/2020/9/4/cre...   \n",
       "1828  https://www.fire.ca.gov/incidents/2021/7/4/bec...   \n",
       "1841  https://www.fire.ca.gov/incidents/2021/7/13/di...   \n",
       "1856  https://www.fire.ca.gov/incidents/2021/7/30/mc...   \n",
       "1860  https://www.fire.ca.gov/incidents/2021/8/1/ant...   \n",
       "1862  https://www.fire.ca.gov/incidents/2021/7/30/mo...   \n",
       "1863  https://www.fire.ca.gov/incidents/2021/7/30/ri...   \n",
       "1873  https://www.fire.ca.gov/incidents/2021/8/14/ca...   \n",
       "2552  https://www.fire.ca.gov/incidents/2024/7/24/pa...   \n",
       "3165  https://www.fire.ca.gov/incidents/2025/8/1/gif...   \n",
       "\n",
       "     incident_date_extinguished incident_dateonly_extinguished  \\\n",
       "122        2013-09-06T18:30:00Z                     2013-09-06   \n",
       "311        2015-11-09T12:00:00Z                     2015-11-09   \n",
       "398        2016-10-13T11:30:00Z                     2016-10-13   \n",
       "744        2018-01-09T11:52:00Z                     2018-01-09   \n",
       "884        2018-01-12T11:24:00Z                     2018-01-12   \n",
       "1082       2018-08-30T09:37:00Z                     2018-08-30   \n",
       "1099       2019-01-04T09:33:00Z                     2019-01-04   \n",
       "1192       2018-11-25T08:00:00Z                     2018-11-25   \n",
       "1653       2020-11-11T10:21:44Z                     2020-11-11   \n",
       "1660       2020-10-01T10:29:00Z                     2020-10-01   \n",
       "1666       2020-10-02T10:38:00Z                     2020-10-02   \n",
       "1683                        NaN                            NaN   \n",
       "1828       2021-09-22T08:37:37Z                     2021-09-22   \n",
       "1841       2021-10-25T07:45:46Z                     2021-10-25   \n",
       "1856       2021-09-16T18:00:00Z                     2021-09-16   \n",
       "1860       2021-10-15T12:01:36Z                     2021-10-15   \n",
       "1862       2021-10-26T13:15:01Z                     2021-10-26   \n",
       "1863       2021-10-26T13:14:31Z                     2021-10-26   \n",
       "1873       2021-10-21T08:18:44Z                     2021-10-21   \n",
       "2552                        NaN                            NaN   \n",
       "3165                        NaN                            NaN   \n",
       "\n",
       "     incident_dateonly_created is_active calfire_incident notification_desired  \n",
       "122                 2013-08-17         N             True                False  \n",
       "311                 2015-07-31         N            False                False  \n",
       "398                 2016-07-22         N             True                False  \n",
       "744                 2017-07-12         N            False                False  \n",
       "884                 2017-12-04         N             True                False  \n",
       "1082                2018-07-23         N             True                False  \n",
       "1099                2018-07-27         N             True                False  \n",
       "1192                2018-11-08         N             True                False  \n",
       "1653                2020-08-16         N            False                False  \n",
       "1660                2020-08-16         N             True                False  \n",
       "1666                2020-08-17         N             True                False  \n",
       "1683                2020-09-04         N            False                False  \n",
       "1828                2021-07-04         N            False                False  \n",
       "1841                2021-07-13         N            False                False  \n",
       "1856                2021-07-30         N            False                False  \n",
       "1860                2021-08-01         N            False                False  \n",
       "1862                2021-07-30         N            False                False  \n",
       "1863                2021-07-30         N            False                False  \n",
       "1873                2021-08-14         N            False                False  \n",
       "2552                2024-07-24         N             True                False  \n",
       "3165                2025-08-01         N            False                False  \n",
       "\n",
       "[21 rows x 23 columns]"
      ]
     },
     "execution_count": 8,
     "metadata": {},
     "output_type": "execute_result"
    }
   ],
   "source": [
    "# Extra Code\n",
    "mask=DF[\"incident_acres_burned\"] > 100000\n",
    "DF[mask]"
   ]
  },
  {
   "cell_type": "code",
   "execution_count": 12,
   "id": "54e08c66-4394-4e6e-b299-a67bffde4a4c",
   "metadata": {},
   "outputs": [
    {
     "data": {
      "application/vnd.plotly.v1+json": {
       "config": {
        "plotlyServerURL": "https://plot.ly"
       },
       "data": [
        {
         "bingroup": "x",
         "hovertemplate": "incident_acres_burned=%{x}<br>count=%{y}<extra></extra>",
         "legendgroup": "",
         "marker": {
          "color": "#636efa",
          "pattern": {
           "shape": ""
          }
         },
         "name": "",
         "nbinsx": 18,
         "orientation": "v",
         "showlegend": false,
         "type": "histogram",
         "x": {
          "bdata": "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",
          "dtype": "f8"
         },
         "xaxis": "x",
         "yaxis": "y"
        }
       ],
       "layout": {
        "barmode": "relative",
        "legend": {
         "tracegroupgap": 0
        },
        "template": {
         "data": {
          "bar": [
           {
            "error_x": {
             "color": "#2a3f5f"
            },
            "error_y": {
             "color": "#2a3f5f"
            },
            "marker": {
             "line": {
              "color": "#E5ECF6",
              "width": 0.5
             },
             "pattern": {
              "fillmode": "overlay",
              "size": 10,
              "solidity": 0.2
             }
            },
            "type": "bar"
           }
          ],
          "barpolar": [
           {
            "marker": {
             "line": {
              "color": "#E5ECF6",
              "width": 0.5
             },
             "pattern": {
              "fillmode": "overlay",
              "size": 10,
              "solidity": 0.2
             }
            },
            "type": "barpolar"
           }
          ],
          "carpet": [
           {
            "aaxis": {
             "endlinecolor": "#2a3f5f",
             "gridcolor": "white",
             "linecolor": "white",
             "minorgridcolor": "white",
             "startlinecolor": "#2a3f5f"
            },
            "baxis": {
             "endlinecolor": "#2a3f5f",
             "gridcolor": "white",
             "linecolor": "white",
             "minorgridcolor": "white",
             "startlinecolor": "#2a3f5f"
            },
            "type": "carpet"
           }
          ],
          "choropleth": [
           {
            "colorbar": {
             "outlinewidth": 0,
             "ticks": ""
            },
            "type": "choropleth"
           }
          ],
          "contour": [
           {
            "colorbar": {
             "outlinewidth": 0,
             "ticks": ""
            },
            "colorscale": [
             [
              0,
              "#0d0887"
             ],
             [
              0.1111111111111111,
              "#46039f"
             ],
             [
              0.2222222222222222,
              "#7201a8"
             ],
             [
              0.3333333333333333,
              "#9c179e"
             ],
             [
              0.4444444444444444,
              "#bd3786"
             ],
             [
              0.5555555555555556,
              "#d8576b"
             ],
             [
              0.6666666666666666,
              "#ed7953"
             ],
             [
              0.7777777777777778,
              "#fb9f3a"
             ],
             [
              0.8888888888888888,
              "#fdca26"
             ],
             [
              1,
              "#f0f921"
             ]
            ],
            "type": "contour"
           }
          ],
          "contourcarpet": [
           {
            "colorbar": {
             "outlinewidth": 0,
             "ticks": ""
            },
            "type": "contourcarpet"
           }
          ],
          "heatmap": [
           {
            "colorbar": {
             "outlinewidth": 0,
             "ticks": ""
            },
            "colorscale": [
             [
              0,
              "#0d0887"
             ],
             [
              0.1111111111111111,
              "#46039f"
             ],
             [
              0.2222222222222222,
              "#7201a8"
             ],
             [
              0.3333333333333333,
              "#9c179e"
             ],
             [
              0.4444444444444444,
              "#bd3786"
             ],
             [
              0.5555555555555556,
              "#d8576b"
             ],
             [
              0.6666666666666666,
              "#ed7953"
             ],
             [
              0.7777777777777778,
              "#fb9f3a"
             ],
             [
              0.8888888888888888,
              "#fdca26"
             ],
             [
              1,
              "#f0f921"
             ]
            ],
            "type": "heatmap"
           }
          ],
          "histogram": [
           {
            "marker": {
             "pattern": {
              "fillmode": "overlay",
              "size": 10,
              "solidity": 0.2
             }
            },
            "type": "histogram"
           }
          ],
          "histogram2d": [
           {
            "colorbar": {
             "outlinewidth": 0,
             "ticks": ""
            },
            "colorscale": [
             [
              0,
              "#0d0887"
             ],
             [
              0.1111111111111111,
              "#46039f"
             ],
             [
              0.2222222222222222,
              "#7201a8"
             ],
             [
              0.3333333333333333,
              "#9c179e"
             ],
             [
              0.4444444444444444,
              "#bd3786"
             ],
             [
              0.5555555555555556,
              "#d8576b"
             ],
             [
              0.6666666666666666,
              "#ed7953"
             ],
             [
              0.7777777777777778,
              "#fb9f3a"
             ],
             [
              0.8888888888888888,
              "#fdca26"
             ],
             [
              1,
              "#f0f921"
             ]
            ],
            "type": "histogram2d"
           }
          ],
          "histogram2dcontour": [
           {
            "colorbar": {
             "outlinewidth": 0,
             "ticks": ""
            },
            "colorscale": [
             [
              0,
              "#0d0887"
             ],
             [
              0.1111111111111111,
              "#46039f"
             ],
             [
              0.2222222222222222,
              "#7201a8"
             ],
             [
              0.3333333333333333,
              "#9c179e"
             ],
             [
              0.4444444444444444,
              "#bd3786"
             ],
             [
              0.5555555555555556,
              "#d8576b"
             ],
             [
              0.6666666666666666,
              "#ed7953"
             ],
             [
              0.7777777777777778,
              "#fb9f3a"
             ],
             [
              0.8888888888888888,
              "#fdca26"
             ],
             [
              1,
              "#f0f921"
             ]
            ],
            "type": "histogram2dcontour"
           }
          ],
          "mesh3d": [
           {
            "colorbar": {
             "outlinewidth": 0,
             "ticks": ""
            },
            "type": "mesh3d"
           }
          ],
          "parcoords": [
           {
            "line": {
             "colorbar": {
              "outlinewidth": 0,
              "ticks": ""
             }
            },
            "type": "parcoords"
           }
          ],
          "pie": [
           {
            "automargin": true,
            "type": "pie"
           }
          ],
          "scatter": [
           {
            "fillpattern": {
             "fillmode": "overlay",
             "size": 10,
             "solidity": 0.2
            },
            "type": "scatter"
           }
          ],
          "scatter3d": [
           {
            "line": {
             "colorbar": {
              "outlinewidth": 0,
              "ticks": ""
             }
            },
            "marker": {
             "colorbar": {
              "outlinewidth": 0,
              "ticks": ""
             }
            },
            "type": "scatter3d"
           }
          ],
          "scattercarpet": [
           {
            "marker": {
             "colorbar": {
              "outlinewidth": 0,
              "ticks": ""
             }
            },
            "type": "scattercarpet"
           }
          ],
          "scattergeo": [
           {
            "marker": {
             "colorbar": {
              "outlinewidth": 0,
              "ticks": ""
             }
            },
            "type": "scattergeo"
           }
          ],
          "scattergl": [
           {
            "marker": {
             "colorbar": {
              "outlinewidth": 0,
              "ticks": ""
             }
            },
            "type": "scattergl"
           }
          ],
          "scattermap": [
           {
            "marker": {
             "colorbar": {
              "outlinewidth": 0,
              "ticks": ""
             }
            },
            "type": "scattermap"
           }
          ],
          "scattermapbox": [
           {
            "marker": {
             "colorbar": {
              "outlinewidth": 0,
              "ticks": ""
             }
            },
            "type": "scattermapbox"
           }
          ],
          "scatterpolar": [
           {
            "marker": {
             "colorbar": {
              "outlinewidth": 0,
              "ticks": ""
             }
            },
            "type": "scatterpolar"
           }
          ],
          "scatterpolargl": [
           {
            "marker": {
             "colorbar": {
              "outlinewidth": 0,
              "ticks": ""
             }
            },
            "type": "scatterpolargl"
           }
          ],
          "scatterternary": [
           {
            "marker": {
             "colorbar": {
              "outlinewidth": 0,
              "ticks": ""
             }
            },
            "type": "scatterternary"
           }
          ],
          "surface": [
           {
            "colorbar": {
             "outlinewidth": 0,
             "ticks": ""
            },
            "colorscale": [
             [
              0,
              "#0d0887"
             ],
             [
              0.1111111111111111,
              "#46039f"
             ],
             [
              0.2222222222222222,
              "#7201a8"
             ],
             [
              0.3333333333333333,
              "#9c179e"
             ],
             [
              0.4444444444444444,
              "#bd3786"
             ],
             [
              0.5555555555555556,
              "#d8576b"
             ],
             [
              0.6666666666666666,
              "#ed7953"
             ],
             [
              0.7777777777777778,
              "#fb9f3a"
             ],
             [
              0.8888888888888888,
              "#fdca26"
             ],
             [
              1,
              "#f0f921"
             ]
            ],
            "type": "surface"
           }
          ],
          "table": [
           {
            "cells": {
             "fill": {
              "color": "#EBF0F8"
             },
             "line": {
              "color": "white"
             }
            },
            "header": {
             "fill": {
              "color": "#C8D4E3"
             },
             "line": {
              "color": "white"
             }
            },
            "type": "table"
           }
          ]
         },
         "layout": {
          "annotationdefaults": {
           "arrowcolor": "#2a3f5f",
           "arrowhead": 0,
           "arrowwidth": 1
          },
          "autotypenumbers": "strict",
          "coloraxis": {
           "colorbar": {
            "outlinewidth": 0,
            "ticks": ""
           }
          },
          "colorscale": {
           "diverging": [
            [
             0,
             "#8e0152"
            ],
            [
             0.1,
             "#c51b7d"
            ],
            [
             0.2,
             "#de77ae"
            ],
            [
             0.3,
             "#f1b6da"
            ],
            [
             0.4,
             "#fde0ef"
            ],
            [
             0.5,
             "#f7f7f7"
            ],
            [
             0.6,
             "#e6f5d0"
            ],
            [
             0.7,
             "#b8e186"
            ],
            [
             0.8,
             "#7fbc41"
            ],
            [
             0.9,
             "#4d9221"
            ],
            [
             1,
             "#276419"
            ]
           ],
           "sequential": [
            [
             0,
             "#0d0887"
            ],
            [
             0.1111111111111111,
             "#46039f"
            ],
            [
             0.2222222222222222,
             "#7201a8"
            ],
            [
             0.3333333333333333,
             "#9c179e"
            ],
            [
             0.4444444444444444,
             "#bd3786"
            ],
            [
             0.5555555555555556,
             "#d8576b"
            ],
            [
             0.6666666666666666,
             "#ed7953"
            ],
            [
             0.7777777777777778,
             "#fb9f3a"
            ],
            [
             0.8888888888888888,
             "#fdca26"
            ],
            [
             1,
             "#f0f921"
            ]
           ],
           "sequentialminus": [
            [
             0,
             "#0d0887"
            ],
            [
             0.1111111111111111,
             "#46039f"
            ],
            [
             0.2222222222222222,
             "#7201a8"
            ],
            [
             0.3333333333333333,
             "#9c179e"
            ],
            [
             0.4444444444444444,
             "#bd3786"
            ],
            [
             0.5555555555555556,
             "#d8576b"
            ],
            [
             0.6666666666666666,
             "#ed7953"
            ],
            [
             0.7777777777777778,
             "#fb9f3a"
            ],
            [
             0.8888888888888888,
             "#fdca26"
            ],
            [
             1,
             "#f0f921"
            ]
           ]
          },
          "colorway": [
           "#636efa",
           "#EF553B",
           "#00cc96",
           "#ab63fa",
           "#FFA15A",
           "#19d3f3",
           "#FF6692",
           "#B6E880",
           "#FF97FF",
           "#FECB52"
          ],
          "font": {
           "color": "#2a3f5f"
          },
          "geo": {
           "bgcolor": "white",
           "lakecolor": "white",
           "landcolor": "#E5ECF6",
           "showlakes": true,
           "showland": true,
           "subunitcolor": "white"
          },
          "hoverlabel": {
           "align": "left"
          },
          "hovermode": "closest",
          "mapbox": {
           "style": "light"
          },
          "paper_bgcolor": "white",
          "plot_bgcolor": "#E5ECF6",
          "polar": {
           "angularaxis": {
            "gridcolor": "white",
            "linecolor": "white",
            "ticks": ""
           },
           "bgcolor": "#E5ECF6",
           "radialaxis": {
            "gridcolor": "white",
            "linecolor": "white",
            "ticks": ""
           }
          },
          "scene": {
           "xaxis": {
            "backgroundcolor": "#E5ECF6",
            "gridcolor": "white",
            "gridwidth": 2,
            "linecolor": "white",
            "showbackground": true,
            "ticks": "",
            "zerolinecolor": "white"
           },
           "yaxis": {
            "backgroundcolor": "#E5ECF6",
            "gridcolor": "white",
            "gridwidth": 2,
            "linecolor": "white",
            "showbackground": true,
            "ticks": "",
            "zerolinecolor": "white"
           },
           "zaxis": {
            "backgroundcolor": "#E5ECF6",
            "gridcolor": "white",
            "gridwidth": 2,
            "linecolor": "white",
            "showbackground": true,
            "ticks": "",
            "zerolinecolor": "white"
           }
          },
          "shapedefaults": {
           "line": {
            "color": "#2a3f5f"
           }
          },
          "ternary": {
           "aaxis": {
            "gridcolor": "white",
            "linecolor": "white",
            "ticks": ""
           },
           "baxis": {
            "gridcolor": "white",
            "linecolor": "white",
            "ticks": ""
           },
           "bgcolor": "#E5ECF6",
           "caxis": {
            "gridcolor": "white",
            "linecolor": "white",
            "ticks": ""
           }
          },
          "title": {
           "x": 0.05
          },
          "xaxis": {
           "automargin": true,
           "gridcolor": "white",
           "linecolor": "white",
           "ticks": "",
           "title": {
            "standoff": 15
           },
           "zerolinecolor": "white",
           "zerolinewidth": 2
          },
          "yaxis": {
           "automargin": true,
           "gridcolor": "white",
           "linecolor": "white",
           "ticks": "",
           "title": {
            "standoff": 15
           },
           "zerolinecolor": "white",
           "zerolinewidth": 2
          }
         }
        },
        "title": {
         "text": "Histogram of Incidents (Acres Burned > 100000)"
        },
        "xaxis": {
         "anchor": "y",
         "domain": [
          0,
          1
         ],
         "title": {
          "text": "incident_acres_burned"
         }
        },
        "yaxis": {
         "anchor": "x",
         "domain": [
          0,
          1
         ],
         "title": {
          "text": "count"
         }
        }
       }
      },
      "image/png": "[encoded data removed]"
     },
     "metadata": {},
     "output_type": "display_data"
    }
   ],
   "source": [
    "mask = DF['incident_acres_burned'] > 100000\n",
    "filtered_df = DF[mask]\n",
    "\n",
    "fig = px.histogram(DF,\n",
    "                  x = 'incident_acres_burned',\n",
    "                   nbins = 18,\n",
    "                   title='Histogram of Incidents (Acres Burned > 100000)')\n",
    "fig.show()\n",
    "                "
   ]
  },
  {
   "cell_type": "markdown",
   "id": "fa09683e-ac6a-4cb5-a47d-6cbf580524d2",
   "metadata": {},
   "source": [
    "## Try reading in some data from Wikipedia - html\n",
    "\n",
    "Here we will explore academy award winning films. Go to the [Wiki for the List of Academy Award Winning Films](https://en.wikipedia.org/wiki/List_of_Academy_Award%E2%80%93winning_films). Look at what type of data is there. How many tables? Any weird looking data?\n",
    "\n",
    "Now we will read the html data into Python and show the data in DF[0]"
   ]
  },
  {
   "cell_type": "code",
   "execution_count": 9,
   "id": "ddd62d4d-675f-4706-9b79-993e5b5ad343",
   "metadata": {},
   "outputs": [
    {
     "data": {
      "text/html": [
       "<div>\n",
       "<style scoped>\n",
       "    .dataframe tbody tr th:only-of-type {\n",
       "        vertical-align: middle;\n",
       "    }\n",
       "\n",
       "    .dataframe tbody tr th {\n",
       "        vertical-align: top;\n",
       "    }\n",
       "\n",
       "    .dataframe thead th {\n",
       "        text-align: right;\n",
       "    }\n",
       "</style>\n",
       "<table border=\"1\" class=\"dataframe\">\n",
       "  <thead>\n",
       "    <tr style=\"text-align: right;\">\n",
       "      <th></th>\n",
       "      <th>Film</th>\n",
       "      <th>Year</th>\n",
       "      <th>Awards</th>\n",
       "      <th>Nominations</th>\n",
       "    </tr>\n",
       "  </thead>\n",
       "  <tbody>\n",
       "    <tr>\n",
       "      <th>0</th>\n",
       "      <td>Anora</td>\n",
       "      <td>2024</td>\n",
       "      <td>5</td>\n",
       "      <td>6</td>\n",
       "    </tr>\n",
       "    <tr>\n",
       "      <th>1</th>\n",
       "      <td>The Brutalist</td>\n",
       "      <td>2024</td>\n",
       "      <td>3</td>\n",
       "      <td>10</td>\n",
       "    </tr>\n",
       "    <tr>\n",
       "      <th>2</th>\n",
       "      <td>Emilia Pérez</td>\n",
       "      <td>2024</td>\n",
       "      <td>2</td>\n",
       "      <td>13</td>\n",
       "    </tr>\n",
       "    <tr>\n",
       "      <th>3</th>\n",
       "      <td>Wicked</td>\n",
       "      <td>2024</td>\n",
       "      <td>2</td>\n",
       "      <td>10</td>\n",
       "    </tr>\n",
       "    <tr>\n",
       "      <th>4</th>\n",
       "      <td>Dune: Part Two</td>\n",
       "      <td>2024</td>\n",
       "      <td>2</td>\n",
       "      <td>5</td>\n",
       "    </tr>\n",
       "    <tr>\n",
       "      <th>...</th>\n",
       "      <td>...</td>\n",
       "      <td>...</td>\n",
       "      <td>...</td>\n",
       "      <td>...</td>\n",
       "    </tr>\n",
       "    <tr>\n",
       "      <th>1382</th>\n",
       "      <td>The Yankee Doodle Mouse</td>\n",
       "      <td>1943</td>\n",
       "      <td>1</td>\n",
       "      <td>1</td>\n",
       "    </tr>\n",
       "    <tr>\n",
       "      <th>1383</th>\n",
       "      <td>The Yearling</td>\n",
       "      <td>1946</td>\n",
       "      <td>2</td>\n",
       "      <td>7</td>\n",
       "    </tr>\n",
       "    <tr>\n",
       "      <th>1384</th>\n",
       "      <td>Yesterday, Today and Tomorrow (Ieri, oggi, dom...</td>\n",
       "      <td>1964</td>\n",
       "      <td>1</td>\n",
       "      <td>1</td>\n",
       "    </tr>\n",
       "    <tr>\n",
       "      <th>1385</th>\n",
       "      <td>You Can't Take It with You</td>\n",
       "      <td>1938</td>\n",
       "      <td>2</td>\n",
       "      <td>7</td>\n",
       "    </tr>\n",
       "    <tr>\n",
       "      <th>1386</th>\n",
       "      <td>Zorba the Greek (Alexis Zorbas)</td>\n",
       "      <td>1964</td>\n",
       "      <td>3</td>\n",
       "      <td>7</td>\n",
       "    </tr>\n",
       "  </tbody>\n",
       "</table>\n",
       "<p>1387 rows × 4 columns</p>\n",
       "</div>"
      ],
      "text/plain": [
       "                                                   Film  Year Awards  \\\n",
       "0                                                 Anora  2024      5   \n",
       "1                                         The Brutalist  2024      3   \n",
       "2                                          Emilia Pérez  2024      2   \n",
       "3                                                Wicked  2024      2   \n",
       "4                                        Dune: Part Two  2024      2   \n",
       "...                                                 ...   ...    ...   \n",
       "1382                            The Yankee Doodle Mouse  1943      1   \n",
       "1383                                       The Yearling  1946      2   \n",
       "1384  Yesterday, Today and Tomorrow (Ieri, oggi, dom...  1964      1   \n",
       "1385                         You Can't Take It with You  1938      2   \n",
       "1386                    Zorba the Greek (Alexis Zorbas)  1964      3   \n",
       "\n",
       "     Nominations  \n",
       "0              6  \n",
       "1             10  \n",
       "2             13  \n",
       "3             10  \n",
       "4              5  \n",
       "...          ...  \n",
       "1382           1  \n",
       "1383           7  \n",
       "1384           1  \n",
       "1385           7  \n",
       "1386           7  \n",
       "\n",
       "[1387 rows x 4 columns]"
      ]
     },
     "execution_count": 9,
     "metadata": {},
     "output_type": "execute_result"
    }
   ],
   "source": [
    "# Here is some helper code\n",
    "# This is code that will read in the data and then fix the Year column\n",
    "\n",
    "#####\n",
    "'''\n",
    "NOTE: Many websites try to stop you from scraping even simple tables. \n",
    "    In just one year wikipedia made big changes... so I changed the code here.\n",
    "    We can talk more about this code in class.\n",
    "'''\n",
    "import requests\n",
    "headers = {\n",
    "    'User-Agent': 'Mozilla/5.0 (Windows NT 10.0; Win64; x64) AppleWebKit/537.36 (KHTML, like Gecko) Chrome/91.0.4472.124 Safari/537.36'\n",
    "}\n",
    "my_website = \"https://en.wikipedia.org/wiki/List_of_Academy_Award%E2%80%93winning_films\"\n",
    "response = requests.get(my_website, headers=headers)\n",
    "#####\n",
    "\n",
    "# Normal pandas code\n",
    "DF = pd.read_html(response.content)\n",
    "DF_raw = DF[0]\n",
    "DF_raw['Year'] = DF_raw['Year'].apply(lambda x: int(x.split('/')[0]))\n",
    "DF_raw"
   ]
  },
  {
   "cell_type": "markdown",
   "id": "4c70b364-4c59-4631-87a4-552d7abaac2a",
   "metadata": {},
   "source": [
    "**Q4** Following along with the lecture notes or video, fix the data in the 'Awards' column."
   ]
  },
  {
   "cell_type": "code",
   "execution_count": 10,
   "id": "e51c0742-d796-4f63-a3e9-c98cdec76247",
   "metadata": {},
   "outputs": [
    {
     "data": {
      "text/html": [
       "<div>\n",
       "<style scoped>\n",
       "    .dataframe tbody tr th:only-of-type {\n",
       "        vertical-align: middle;\n",
       "    }\n",
       "\n",
       "    .dataframe tbody tr th {\n",
       "        vertical-align: top;\n",
       "    }\n",
       "\n",
       "    .dataframe thead th {\n",
       "        text-align: right;\n",
       "    }\n",
       "</style>\n",
       "<table border=\"1\" class=\"dataframe\">\n",
       "  <thead>\n",
       "    <tr style=\"text-align: right;\">\n",
       "      <th></th>\n",
       "      <th>Film</th>\n",
       "      <th>Year</th>\n",
       "      <th>Awards</th>\n",
       "      <th>Nominations</th>\n",
       "    </tr>\n",
       "  </thead>\n",
       "  <tbody>\n",
       "    <tr>\n",
       "      <th>0</th>\n",
       "      <td>Anora</td>\n",
       "      <td>2024</td>\n",
       "      <td>5</td>\n",
       "      <td>6</td>\n",
       "    </tr>\n",
       "    <tr>\n",
       "      <th>1</th>\n",
       "      <td>The Brutalist</td>\n",
       "      <td>2024</td>\n",
       "      <td>3</td>\n",
       "      <td>10</td>\n",
       "    </tr>\n",
       "    <tr>\n",
       "      <th>2</th>\n",
       "      <td>Emilia Pérez</td>\n",
       "      <td>2024</td>\n",
       "      <td>2</td>\n",
       "      <td>13</td>\n",
       "    </tr>\n",
       "    <tr>\n",
       "      <th>3</th>\n",
       "      <td>Wicked</td>\n",
       "      <td>2024</td>\n",
       "      <td>2</td>\n",
       "      <td>10</td>\n",
       "    </tr>\n",
       "    <tr>\n",
       "      <th>4</th>\n",
       "      <td>Dune: Part Two</td>\n",
       "      <td>2024</td>\n",
       "      <td>2</td>\n",
       "      <td>5</td>\n",
       "    </tr>\n",
       "    <tr>\n",
       "      <th>...</th>\n",
       "      <td>...</td>\n",
       "      <td>...</td>\n",
       "      <td>...</td>\n",
       "      <td>...</td>\n",
       "    </tr>\n",
       "    <tr>\n",
       "      <th>1382</th>\n",
       "      <td>The Yankee Doodle Mouse</td>\n",
       "      <td>1943</td>\n",
       "      <td>1</td>\n",
       "      <td>1</td>\n",
       "    </tr>\n",
       "    <tr>\n",
       "      <th>1383</th>\n",
       "      <td>The Yearling</td>\n",
       "      <td>1946</td>\n",
       "      <td>2</td>\n",
       "      <td>7</td>\n",
       "    </tr>\n",
       "    <tr>\n",
       "      <th>1384</th>\n",
       "      <td>Yesterday, Today and Tomorrow (Ieri, oggi, dom...</td>\n",
       "      <td>1964</td>\n",
       "      <td>1</td>\n",
       "      <td>1</td>\n",
       "    </tr>\n",
       "    <tr>\n",
       "      <th>1385</th>\n",
       "      <td>You Can't Take It with You</td>\n",
       "      <td>1938</td>\n",
       "      <td>2</td>\n",
       "      <td>7</td>\n",
       "    </tr>\n",
       "    <tr>\n",
       "      <th>1386</th>\n",
       "      <td>Zorba the Greek (Alexis Zorbas)</td>\n",
       "      <td>1964</td>\n",
       "      <td>3</td>\n",
       "      <td>7</td>\n",
       "    </tr>\n",
       "  </tbody>\n",
       "</table>\n",
       "<p>1387 rows × 4 columns</p>\n",
       "</div>"
      ],
      "text/plain": [
       "                                                   Film  Year Awards  \\\n",
       "0                                                 Anora  2024      5   \n",
       "1                                         The Brutalist  2024      3   \n",
       "2                                          Emilia Pérez  2024      2   \n",
       "3                                                Wicked  2024      2   \n",
       "4                                        Dune: Part Two  2024      2   \n",
       "...                                                 ...   ...    ...   \n",
       "1382                            The Yankee Doodle Mouse  1943      1   \n",
       "1383                                       The Yearling  1946      2   \n",
       "1384  Yesterday, Today and Tomorrow (Ieri, oggi, dom...  1964      1   \n",
       "1385                         You Can't Take It with You  1938      2   \n",
       "1386                    Zorba the Greek (Alexis Zorbas)  1964      3   \n",
       "\n",
       "     Nominations  \n",
       "0              6  \n",
       "1             10  \n",
       "2             13  \n",
       "3             10  \n",
       "4              5  \n",
       "...          ...  \n",
       "1382           1  \n",
       "1383           7  \n",
       "1384           1  \n",
       "1385           7  \n",
       "1386           7  \n",
       "\n",
       "[1387 rows x 4 columns]"
      ]
     },
     "execution_count": 10,
     "metadata": {},
     "output_type": "execute_result"
    }
   ],
   "source": [
    "# Your code here\n",
    "DF_raw = DF[0]\n",
    "(DF_raw)"
   ]
  },
  {
   "cell_type": "markdown",
   "id": "ada5ce86-e820-481b-a8c8-ab5f063b0ad5",
   "metadata": {},
   "source": [
    "**Q5** Now try to fix the data in the \"Nominations\" column - see if you can do it without looking at the answer."
   ]
  },
  {
   "cell_type": "code",
   "execution_count": 11,
   "id": "57571cc2-dbca-4354-b0db-676b03005f3c",
   "metadata": {},
   "outputs": [
    {
     "data": {
      "text/html": [
       "<div>\n",
       "<style scoped>\n",
       "    .dataframe tbody tr th:only-of-type {\n",
       "        vertical-align: middle;\n",
       "    }\n",
       "\n",
       "    .dataframe tbody tr th {\n",
       "        vertical-align: top;\n",
       "    }\n",
       "\n",
       "    .dataframe thead th {\n",
       "        text-align: right;\n",
       "    }\n",
       "</style>\n",
       "<table border=\"1\" class=\"dataframe\">\n",
       "  <thead>\n",
       "    <tr style=\"text-align: right;\">\n",
       "      <th></th>\n",
       "      <th>Year</th>\n",
       "    </tr>\n",
       "  </thead>\n",
       "  <tbody>\n",
       "    <tr>\n",
       "      <th>count</th>\n",
       "      <td>1387.000000</td>\n",
       "    </tr>\n",
       "    <tr>\n",
       "      <th>mean</th>\n",
       "      <td>1976.350397</td>\n",
       "    </tr>\n",
       "    <tr>\n",
       "      <th>std</th>\n",
       "      <td>27.699346</td>\n",
       "    </tr>\n",
       "    <tr>\n",
       "      <th>min</th>\n",
       "      <td>1927.000000</td>\n",
       "    </tr>\n",
       "    <tr>\n",
       "      <th>25%</th>\n",
       "      <td>1952.000000</td>\n",
       "    </tr>\n",
       "    <tr>\n",
       "      <th>50%</th>\n",
       "      <td>1976.000000</td>\n",
       "    </tr>\n",
       "    <tr>\n",
       "      <th>75%</th>\n",
       "      <td>2001.000000</td>\n",
       "    </tr>\n",
       "    <tr>\n",
       "      <th>max</th>\n",
       "      <td>2024.000000</td>\n",
       "    </tr>\n",
       "  </tbody>\n",
       "</table>\n",
       "</div>"
      ],
      "text/plain": [
       "              Year\n",
       "count  1387.000000\n",
       "mean   1976.350397\n",
       "std      27.699346\n",
       "min    1927.000000\n",
       "25%    1952.000000\n",
       "50%    1976.000000\n",
       "75%    2001.000000\n",
       "max    2024.000000"
      ]
     },
     "execution_count": 11,
     "metadata": {},
     "output_type": "execute_result"
    }
   ],
   "source": [
    "# Your code here\n",
    "DF_raw.describe()"
   ]
  },
  {
   "cell_type": "markdown",
   "id": "8f1c8227-7b3e-4067-9b49-bd9c58752402",
   "metadata": {},
   "source": [
    "## Problem 1\n",
    "\n",
    "Your homework today will be to see if you can find some data of your own. This can be the first steps you take toward your final project. \n",
    "\n",
    "You should:\n",
    "\n",
    "* Find some data online\n",
    "* Read that data into Python using the Pandas commands we learned\n",
    "* Look at the DataFrame - number of variables, number of observations, AND the dtypes. Comment on what you see.\n",
    "* Try to do summary statistics (.describe()). Does it work like expected?\n",
    "* Attempt to fix any data, or explain why the data does not need to be fixed.\n",
    "* Make some sort of graph using columns in your data."
   ]
  },
  {
   "cell_type": "code",
   "execution_count": 12,
   "id": "400c35a0-9141-45c6-8479-bced14887fcb",
   "metadata": {},
   "outputs": [
    {
     "name": "stdout",
     "output_type": "stream",
     "text": [
      "Jupyter detected...\n",
      "3 channel Terms of Service accepted\n",
      "Retrieving notices: done\n",
      "Channels:\n",
      " - conda-forge\n",
      " - defaults\n",
      "Platform: win-64\n",
      "Collecting package metadata (repodata.json): done\n",
      "Solving environment: done\n",
      "\n",
      "# All requested packages already installed.\n",
      "\n"
     ]
    },
    {
     "name": "stderr",
     "output_type": "stream",
     "text": [
      "\n",
      "\n",
      "==> WARNING: A newer version of conda exists. <==\n",
      "    current version: 25.7.0\n",
      "    latest version: 25.9.1\n",
      "\n",
      "Please update conda by running\n",
      "\n",
      "    $ conda update -n base -c conda-forge conda\n",
      "\n",
      "\n"
     ]
    }
   ],
   "source": [
    "!conda install -y kagglehub"
   ]
  },
  {
   "cell_type": "code",
   "execution_count": 17,
   "id": "0f05d167-976d-4eb0-b0cd-23fa6ae638ed",
   "metadata": {},
   "outputs": [
    {
     "name": "stdout",
     "output_type": "stream",
     "text": [
      "Warning: Looks like you're using an outdated `kagglehub` version (installed: 0.3.8), please consider upgrading to the latest version (0.3.13).\n",
      "Path to dataset files: C:\\Users\\chris\\.cache\\kagglehub\\datasets\\nalisha\\most-popular-songs-on-youtube-2025\\versions\\1\n"
     ]
    },
    {
     "data": {
      "text/plain": [
       "[                                                   Film  Year Awards  \\\n",
       " 0                                                 Anora  2024      5   \n",
       " 1                                         The Brutalist  2024      3   \n",
       " 2                                          Emilia Pérez  2024      2   \n",
       " 3                                                Wicked  2024      2   \n",
       " 4                                        Dune: Part Two  2024      2   \n",
       " ...                                                 ...   ...    ...   \n",
       " 1382                            The Yankee Doodle Mouse  1943      1   \n",
       " 1383                                       The Yearling  1946      2   \n",
       " 1384  Yesterday, Today and Tomorrow (Ieri, oggi, dom...  1964      1   \n",
       " 1385                         You Can't Take It with You  1938      2   \n",
       " 1386                    Zorba the Greek (Alexis Zorbas)  1964      3   \n",
       " \n",
       "      Nominations  \n",
       " 0              6  \n",
       " 1             10  \n",
       " 2             13  \n",
       " 3             10  \n",
       " 4              5  \n",
       " ...          ...  \n",
       " 1382           1  \n",
       " 1383           7  \n",
       " 1384           1  \n",
       " 1385           7  \n",
       " 1386           7  \n",
       " \n",
       " [1387 rows x 4 columns],\n",
       "                              vteAcademy Awards lists  \\\n",
       " 0  Academy of Motion Picture Arts and Sciences (A...   \n",
       " 1                      Combined major Academy Awards   \n",
       " 2                                             Acting   \n",
       " 3                                          Directing   \n",
       " 4                                               Film   \n",
       " 5                          Countries of the nominees   \n",
       " 6                              Nominees demographics   \n",
       " 7                                              Other   \n",
       " 8                              Combined major awards   \n",
       " 9                                           Category   \n",
       " \n",
       "                            vteAcademy Awards lists.1  \n",
       " 0  Academy of Motion Picture Arts and Sciences (A...  \n",
       " 1   Superlatives Big Five All four acting categories  \n",
       " 2  All nominees Best Actor Best Actress Best Supp...  \n",
       " 3                                      Best Director  \n",
       " 4  Winning films Multi-noms in same category Two ...  \n",
       " 5  Africa Argentina Australia Austria Baltic Bela...  \n",
       " 6  Asian Black Generation Z Hispanic Indigenous J...  \n",
       " 7  Ceremonies Families False names Multi-win year...  \n",
       " 8                        EGOT Triple Crown of Acting  \n",
       " 9                                           Category  ]"
      ]
     },
     "execution_count": 17,
     "metadata": {},
     "output_type": "execute_result"
    }
   ],
   "source": [
    "import kagglehub\n",
    "\n",
    "# Download latest version\n",
    "path = kagglehub.dataset_download(\"nalisha/most-popular-songs-on-youtube-2025\")\n",
    "\n",
    "print(\"Path to dataset files:\", path)\n",
    "DF"
   ]
  },
  {
   "cell_type": "code",
   "execution_count": 14,
   "id": "d8bfea54-4b02-4f1a-93f5-f383a565f3ed",
   "metadata": {},
   "outputs": [
    {
     "name": "stdout",
     "output_type": "stream",
     "text": [
      "Path to dataset files: C:\\Users\\chris\\.cache\\kagglehub\\datasets\\nalisha\\most-popular-songs-on-youtube-2025\\versions\\1\n"
     ]
    }
   ],
   "source": [
    "print(\"Path to dataset files:\", path)"
   ]
  },
  {
   "cell_type": "code",
   "execution_count": 15,
   "id": "cad29858-3507-4293-a8e7-d4b41ad3c6e8",
   "metadata": {},
   "outputs": [
    {
     "data": {
      "text/plain": [
       "'youtube-top-100-songs-2025.csv'"
      ]
     },
     "execution_count": 15,
     "metadata": {},
     "output_type": "execute_result"
    }
   ],
   "source": [
    "import os\n",
    "os.listdir(path)[0]"
   ]
  },
  {
   "cell_type": "code",
   "execution_count": 16,
   "id": "ae1e2ef1-4410-46be-a9af-555a7c3c9c7e",
   "metadata": {},
   "outputs": [],
   "source": [
    "import os\n",
    "import pandas as pd\n",
    "file = os.path.join(path, os.listdir(path)[0])\n",
    "df = pd.read_csv(file)"
   ]
  },
  {
   "cell_type": "code",
   "execution_count": 24,
   "id": "4d10ce7c-2288-4733-ba63-1976aac32fc3",
   "metadata": {},
   "outputs": [
    {
     "name": "stdout",
     "output_type": "stream",
     "text": [
      "Warning: Looks like you're using an outdated `kagglehub` version (installed: 0.3.8), please consider upgrading to the latest version (0.3.13).\n"
     ]
    },
    {
     "ename": "AttributeError",
     "evalue": "'str' object has no attribute 'shape'",
     "output_type": "error",
     "traceback": [
      "\u001b[1;31m---------------------------------------------------------------------------\u001b[0m",
      "\u001b[1;31mAttributeError\u001b[0m                            Traceback (most recent call last)",
      "Cell \u001b[1;32mIn[24], line 5\u001b[0m\n\u001b[0;32m      1\u001b[0m \u001b[38;5;28;01mimport\u001b[39;00m\u001b[38;5;250m \u001b[39m\u001b[38;5;21;01mpandas\u001b[39;00m\u001b[38;5;250m \u001b[39m\u001b[38;5;28;01mas\u001b[39;00m\u001b[38;5;250m \u001b[39m\u001b[38;5;21;01mpd\u001b[39;00m\n\u001b[0;32m      3\u001b[0m df \u001b[38;5;241m=\u001b[39m pd\u001b[38;5;241m.\u001b[39mread_csv \u001b[38;5;241m=\u001b[39m path \u001b[38;5;241m=\u001b[39m kagglehub\u001b[38;5;241m.\u001b[39mdataset_download(\u001b[38;5;124m\"\u001b[39m\u001b[38;5;124mnalisha/most-popular-songs-on-youtube-2025\u001b[39m\u001b[38;5;124m\"\u001b[39m) \n\u001b[1;32m----> 5\u001b[0m \u001b[38;5;28mprint\u001b[39m(\u001b[38;5;124m\"\u001b[39m\u001b[38;5;124mNumber of variables:\u001b[39m\u001b[38;5;124m\"\u001b[39m, df\u001b[38;5;241m.\u001b[39mshape[\u001b[38;5;241m1\u001b[39m])\n\u001b[0;32m      7\u001b[0m \u001b[38;5;28mprint\u001b[39m(\u001b[38;5;124m\"\u001b[39m\u001b[38;5;124mNumber of observations:\u001b[39m\u001b[38;5;124m\"\u001b[39m, df\u001b[38;5;241m.\u001b[39mshape[\u001b[38;5;241m0\u001b[39m])\n\u001b[0;32m      9\u001b[0m \u001b[38;5;28mprint\u001b[39m(\u001b[38;5;124m\"\u001b[39m\u001b[38;5;130;01m\\n\u001b[39;00m\u001b[38;5;124mData types of each column:\u001b[39m\u001b[38;5;124m\"\u001b[39m)\n",
      "\u001b[1;31mAttributeError\u001b[0m: 'str' object has no attribute 'shape'"
     ]
    }
   ],
   "source": [
    "import pandas as pd\n",
    "\n",
    "df = pd.read_csv = path = kagglehub.dataset_download(\"nalisha/most-popular-songs-on-youtube-2025\") \n",
    "\n",
    "print(\"Number of variables:\", df.shape[1])\n",
    "\n",
    "print(\"Number of observations:\", df.shape[0])\n",
    "\n",
    "print(\"\\nData types of each column:\")\n",
    "print(df.dtypes)\n",
    "df"
   ]
  },
  {
   "cell_type": "code",
   "execution_count": null,
   "id": "f60a86bd-e2be-4ace-90e5-570cf146e1e6",
   "metadata": {},
   "outputs": [],
   "source": []
  }
 ],
 "metadata": {
  "kernelspec": {
   "display_name": "Python [conda env:base] *",
   "language": "python",
   "name": "conda-base-py"
  },
  "language_info": {
   "codemirror_mode": {
    "name": "ipython",
    "version": 3
   },
   "file_extension": ".py",
   "mimetype": "text/x-python",
   "name": "python",
   "nbconvert_exporter": "python",
   "pygments_lexer": "ipython3",
   "version": "3.13.5"
  }
 },
 "nbformat": 4,
 "nbformat_minor": 5
}
